{
 "cells": [
  {
   "cell_type": "code",
   "execution_count": 1,
   "metadata": {},
   "outputs": [],
   "source": [
    "from kafka import KafkaConsumer\n",
    "from pyflink.table import EnvironmentSettings, TableEnvironment\n",
    "\n",
    "import ibis\n",
    "import ibis.expr.datatypes as dt\n",
    "import ibis.expr.schema as sch"
   ]
  },
  {
   "cell_type": "code",
   "execution_count": 2,
   "metadata": {},
   "outputs": [
    {
     "name": "stdout",
     "output_type": "stream",
     "text": [
      "(0, ConsumerRecord(topic='transaction', partition=0, offset=1138, timestamp=1705451256257, timestamp_type=0, key=None, value=b'{\"trans_date_trans_time\": \"2024-01-17 00:27:36.257\", \"cc_num\": 4099710000000000, \"merchant\": \"fraud_Thiel PLC\", \"category\": \"misc_pos\", \"amt\": 3.61, \"first\": \"James\", \"last\": \"Stephens\", \"zipcode\": \"22968\", \"dob\": \"7/7/75\", \"trans_num\": \"f12f60901509562f538b1d3fa7cd5372\", \"is_fraud\": 0, \"user_id\": 4662397635715803005}', headers=[], checksum=None, serialized_key_size=-1, serialized_value_size=319, serialized_header_size=-1))\n",
      "(1, ConsumerRecord(topic='transaction', partition=0, offset=1139, timestamp=1705451256358, timestamp_type=0, key=None, value=b'{\"trans_date_trans_time\": \"2024-01-17 00:27:36.358\", \"cc_num\": 4908850000000000, \"merchant\": \"fraud_White and Sons\", \"category\": \"home\", \"amt\": 14.13, \"first\": \"Lauren\", \"last\": \"Torres\", \"zipcode\": \"76050\", \"dob\": \"7/24/92\", \"trans_num\": \"7a76dfb0f8e26cc30f9ba00b27d51b22\", \"is_fraud\": 0, \"user_id\": -5845256892773176371}', headers=[], checksum=None, serialized_key_size=-1, serialized_value_size=322, serialized_header_size=-1))\n",
      "(2, ConsumerRecord(topic='transaction', partition=0, offset=1140, timestamp=1705451256459, timestamp_type=0, key=None, value=b'{\"trans_date_trans_time\": \"2024-01-17 00:27:36.458\", \"cc_num\": 342036000000000, \"merchant\": \"fraud_Mueller, Gerhold and Mueller\", \"category\": \"health_fitness\", \"amt\": 25.45, \"first\": \"Jennifer\", \"last\": \"Carrillo\", \"zipcode\": \"23106\", \"dob\": \"6/19/99\", \"trans_num\": \"8d921d7d79d6c3c2df591ea4a6a9b7e2\", \"is_fraud\": 0, \"user_id\": 5617146418590565424}', headers=[], checksum=None, serialized_key_size=-1, serialized_value_size=348, serialized_header_size=-1))\n",
      "(3, ConsumerRecord(topic='transaction', partition=0, offset=1141, timestamp=1705451256559, timestamp_type=0, key=None, value=b'{\"trans_date_trans_time\": \"2024-01-17 00:27:36.559\", \"cc_num\": 4755700000000, \"merchant\": \"fraud_Botsford and Sons\", \"category\": \"home\", \"amt\": 94.79, \"first\": \"Robert\", \"last\": \"Evans\", \"zipcode\": \"75048\", \"dob\": \"6/20/85\", \"trans_num\": \"8a92ae21e976901975a6a1acb4c39648\", \"is_fraud\": 0, \"user_id\": -7903724397881252814}', headers=[], checksum=None, serialized_key_size=-1, serialized_value_size=321, serialized_header_size=-1))\n",
      "(4, ConsumerRecord(topic='transaction', partition=0, offset=1142, timestamp=1705451256660, timestamp_type=0, key=None, value=b'{\"trans_date_trans_time\": \"2024-01-17 00:27:36.660\", \"cc_num\": 4335530000000000, \"merchant\": \"fraud_Kris-Padberg\", \"category\": \"shopping_pos\", \"amt\": 66.21, \"first\": \"Amy\", \"last\": \"Daugherty\", \"zipcode\": \"65066\", \"dob\": \"5/20/98\", \"trans_num\": \"b10d3dd983d8283099b5dcbc057b8463\", \"is_fraud\": 0, \"user_id\": -2308685242282931524}', headers=[], checksum=None, serialized_key_size=-1, serialized_value_size=328, serialized_header_size=-1))\n",
      "(5, ConsumerRecord(topic='transaction', partition=0, offset=1143, timestamp=1705451256761, timestamp_type=0, key=None, value=b'{\"trans_date_trans_time\": \"2024-01-17 00:27:36.761\", \"cc_num\": 573860000000, \"merchant\": \"fraud_Kutch-Ferry\", \"category\": \"home\", \"amt\": 18.48, \"first\": \"Cristian\", \"last\": \"Jones\", \"zipcode\": \"60091\", \"dob\": \"7/23/86\", \"trans_num\": \"e246dc58523abc6ba39f14d55e12d499\", \"is_fraud\": 0, \"user_id\": 245016325657560512}', headers=[], checksum=None, serialized_key_size=-1, serialized_value_size=314, serialized_header_size=-1))\n",
      "(6, ConsumerRecord(topic='transaction', partition=0, offset=1144, timestamp=1705451256861, timestamp_type=0, key=None, value=b'{\"trans_date_trans_time\": \"2024-01-17 00:27:36.861\", \"cc_num\": 4512830000000000000, \"merchant\": \"fraud_Yost, Schamberger and Windler\", \"category\": \"kids_pets\", \"amt\": 65.96, \"first\": \"Monica\", \"last\": \"Cohen\", \"zipcode\": \"15484\", \"dob\": \"7/25/83\", \"trans_num\": \"7d953673c09de0b9d5723d81d2a8d078\", \"is_fraud\": 0, \"user_id\": -8520139809202777872}', headers=[], checksum=None, serialized_key_size=-1, serialized_value_size=344, serialized_header_size=-1))\n",
      "(7, ConsumerRecord(topic='transaction', partition=0, offset=1145, timestamp=1705451256962, timestamp_type=0, key=None, value=b'{\"trans_date_trans_time\": \"2024-01-17 00:27:36.962\", \"cc_num\": 6506980000000000, \"merchant\": \"fraud_Abbott-Steuber\", \"category\": \"personal_care\", \"amt\": 30.11, \"first\": \"Alice\", \"last\": \"Kemp\", \"zipcode\": \"71854\", \"dob\": \"4/15/85\", \"trans_num\": \"85e5e59c82c07081f4f5435caa0e3cda\", \"is_fraud\": 0, \"user_id\": 1403704284480388045}', headers=[], checksum=None, serialized_key_size=-1, serialized_value_size=327, serialized_header_size=-1))\n",
      "(8, ConsumerRecord(topic='transaction', partition=0, offset=1146, timestamp=1705451257063, timestamp_type=0, key=None, value=b'{\"trans_date_trans_time\": \"2024-01-17 00:27:37.063\", \"cc_num\": 2283740000000000, \"merchant\": \"fraud_Mosciski, Gislason and Mertz\", \"category\": \"grocery_pos\", \"amt\": 67.58, \"first\": \"Shannon\", \"last\": \"Williams\", \"zipcode\": \"30009\", \"dob\": \"12/27/97\", \"trans_num\": \"338a371ceb078de931f8d9c311d66975\", \"is_fraud\": 0, \"user_id\": -7997291126530369954}', headers=[], checksum=None, serialized_key_size=-1, serialized_value_size=347, serialized_header_size=-1))\n",
      "(9, ConsumerRecord(topic='transaction', partition=0, offset=1147, timestamp=1705451257164, timestamp_type=0, key=None, value=b'{\"trans_date_trans_time\": \"2024-01-17 00:27:37.164\", \"cc_num\": 213158000000000, \"merchant\": \"fraud_Kirlin and Sons\", \"category\": \"personal_care\", \"amt\": 51.74, \"first\": \"Tara\", \"last\": \"Campbell\", \"zipcode\": \"82901\", \"dob\": \"8/1/84\", \"trans_num\": \"57cc6aa0fe674cd3afb7eda97576f057\", \"is_fraud\": 0, \"user_id\": -7467162078003041103}', headers=[], checksum=None, serialized_key_size=-1, serialized_value_size=330, serialized_header_size=-1))\n"
     ]
    }
   ],
   "source": [
    "consumer = KafkaConsumer(\"transaction\")\n",
    "for msg in zip(range(10), consumer):\n",
    "    print(msg)"
   ]
  },
  {
   "cell_type": "code",
   "execution_count": 3,
   "metadata": {},
   "outputs": [
    {
     "data": {
      "text/plain": [
       "<pyflink.table.table_result.TableResult at 0x7efd5c710c40>"
      ]
     },
     "execution_count": 3,
     "metadata": {},
     "output_type": "execute_result"
    }
   ],
   "source": [
    "local = True\n",
    "\n",
    "# 1. create a TableEnvironment\n",
    "env_settings = EnvironmentSettings.in_streaming_mode()\n",
    "table_env = TableEnvironment.create(env_settings)\n",
    "# write all the data to one file\n",
    "table_env.get_config().set(\"parallelism.default\", \"1\")\n",
    "\n",
    "# The `flink` backend does not create `TableEnvironment` objects; pass\n",
    "# the `TableEnvironment` object created above to `ibis.flink.connect`.\n",
    "connection = ibis.flink.connect(table_env)\n",
    "\n",
    "# Flink’s streaming connectors aren't part of the binary distribution.\n",
    "# Link the Kafka connector for cluster execution by adding a JAR file.\n",
    "connection._exec_sql(\"ADD JAR '../../flink-sql-connector-kafka-3.0.2-1.18.jar'\")"
   ]
  },
  {
   "cell_type": "code",
   "execution_count": 4,
   "metadata": {},
   "outputs": [],
   "source": [
    "# 2. Create source table\n",
    "source_topic_name = \"transaction\"\n",
    "kafka_offset = \"earliest-offset\"\n",
    "source_schema = sch.Schema(\n",
    "    {\n",
    "        \"user_id\": dt.int64,\n",
    "        \"trans_date_trans_time\": dt.timestamp(scale=3),\n",
    "        \"cc_num\": dt.int64,\n",
    "        \"amt\": dt.float64,\n",
    "        \"trans_num\": dt.str,\n",
    "        \"merchant\": dt.str,\n",
    "        \"category\": dt.str ,      \n",
    "        \"is_fraud\": dt.int32,\n",
    "        \"first\": dt.str,\n",
    "        \"last\": dt.str,\n",
    "        \"dob\": dt.str,\n",
    "        \"zipcode\": dt.str,\n",
    "    }\n",
    ")\n",
    "\n",
    "# Configure the source table with Kafka connector properties.\n",
    "source_configs = {\n",
    "    \"connector\": \"kafka\",\n",
    "    \"topic\": source_topic_name,\n",
    "    \"properties.bootstrap.servers\": \"localhost:9092\" if local else \"kafka:29092\",\n",
    "    \"properties.group.id\": \"test\",\n",
    "    \"scan.startup.mode\": kafka_offset,\n",
    "    \"format\": \"json\",\n",
    "}\n",
    "\n",
    "# Create the source table using the defined schema, Kafka connector properties,\n",
    "# and set watermarking for real-time processing with a 15-second delay.\n",
    "source_table = connection.create_table(\n",
    "    source_topic_name,\n",
    "    schema=source_schema,\n",
    "    tbl_properties=source_configs,\n",
    "    watermark=ibis.watermark(\n",
    "        time_col=\"trans_date_trans_time\", allowed_delay=ibis.interval(seconds=15)\n",
    "    ),\n",
    ")\n"
   ]
  },
  {
   "cell_type": "code",
   "execution_count": 5,
   "metadata": {},
   "outputs": [
    {
     "data": {
      "text/html": [
       "<pre style=\"white-space:pre;overflow-x:auto;line-height:normal;font-family:Menlo,'DejaVu Sans Mono',consolas,'Courier New',monospace\">DatabaseTable: transaction\n",
       "  user_id               int64\n",
       "  trans_date_trans_time timestamp(3)\n",
       "  cc_num                int64\n",
       "  amt                   float64\n",
       "  trans_num             string\n",
       "  merchant              string\n",
       "  category              string\n",
       "  is_fraud              int32\n",
       "  first                 string\n",
       "  last                  string\n",
       "  dob                   string\n",
       "  zipcode               string\n",
       "</pre>\n"
      ],
      "text/plain": [
       "DatabaseTable: transaction\n",
       "  user_id               int64\n",
       "  trans_date_trans_time timestamp(3)\n",
       "  cc_num                int64\n",
       "  amt                   float64\n",
       "  trans_num             string\n",
       "  merchant              string\n",
       "  category              string\n",
       "  is_fraud              int32\n",
       "  first                 string\n",
       "  last                  string\n",
       "  dob                   string\n",
       "  zipcode               string"
      ]
     },
     "execution_count": 5,
     "metadata": {},
     "output_type": "execute_result"
    }
   ],
   "source": [
    "source_table"
   ]
  },
  {
   "cell_type": "code",
   "execution_count": 6,
   "metadata": {},
   "outputs": [
    {
     "data": {
      "text/html": [
       "<pre style=\"white-space:pre;overflow-x:auto;line-height:normal;font-family:Menlo,'DejaVu Sans Mono',consolas,'Courier New',monospace\">r0 := DatabaseTable: transaction\n",
       "  user_id               int64\n",
       "  trans_date_trans_time timestamp(3)\n",
       "  cc_num                int64\n",
       "  amt                   float64\n",
       "  trans_num             string\n",
       "  merchant              string\n",
       "  category              string\n",
       "  is_fraud              int32\n",
       "  first                 string\n",
       "  last                  string\n",
       "  dob                   string\n",
       "  zipcode               string\n",
       "\n",
       "Selection[r0]\n",
       "  selections:\n",
       "    user_id:                      r0.user_id\n",
       "    user_max_trans_amt_last_5min: WindowFunction(func=Max(r0.amt), frame=RangeWindowFrame(table=r0, \n",
       "start=WindowBoundary(value=5 m, preceding=True), end=WindowBoundary(Cast(0, to=interval('m'))), \n",
       "group_by=[r0.user_id], order_by=[asc r0.trans_date_trans_time]))\n",
       "    trans_date_trans_time:        r0.trans_date_trans_time\n",
       "</pre>\n"
      ],
      "text/plain": [
       "r0 := DatabaseTable: transaction\n",
       "  user_id               int64\n",
       "  trans_date_trans_time timestamp(3)\n",
       "  cc_num                int64\n",
       "  amt                   float64\n",
       "  trans_num             string\n",
       "  merchant              string\n",
       "  category              string\n",
       "  is_fraud              int32\n",
       "  first                 string\n",
       "  last                  string\n",
       "  dob                   string\n",
       "  zipcode               string\n",
       "\n",
       "Selection[r0]\n",
       "  selections:\n",
       "    user_id:                      r0.user_id\n",
       "    user_max_trans_amt_last_5min: WindowFunction(func=Max(r0.amt), frame=RangeWindowFrame(table=r0, \n",
       "start=WindowBoundary(value=5 m, preceding=True), end=WindowBoundary(Cast(0, to=interval('m'))), \n",
       "group_by=[r0.user_id], order_by=[asc r0.trans_date_trans_time]))\n",
       "    trans_date_trans_time:        r0.trans_date_trans_time"
      ]
     },
     "execution_count": 6,
     "metadata": {},
     "output_type": "execute_result"
    }
   ],
   "source": [
    "# 3. Feature Generation using Flink backend\n",
    "# Define a window specification for aggregating maximum transaction amount over the last 5 minutes.\n",
    "# The aggregation is partitioned by user_id and ordered by trans_date_trans_time.\n",
    "# The window range is set to the interval from 5 minutes ago to the current time.\n",
    "user_max_trans_amt_last_5min = source_table[\n",
    "    source_table.user_id,\n",
    "    # Calculate the maximum transaction amount over the specified window.\n",
    "    source_table.amt.max().over(\n",
    "        ibis.window(\n",
    "            group_by=source_table.user_id,\n",
    "            order_by=source_table.trans_date_trans_time,\n",
    "            range=(-ibis.interval(minutes=5), 0),\n",
    "        )\n",
    "    ).name(\"user_max_trans_amt_last_5min\"),\n",
    "    source_table.amt.min().over(\n",
    "        ibis.window(\n",
    "            group_by=source_table.user_id,\n",
    "            order_by=source_table.trans_date_trans_time,\n",
    "            range=(-ibis.interval(minutes=5), 0),\n",
    "        )\n",
    "    ).name(\"user_max_trans_amt_last_5min\"),\n",
    "    source_table.trans_date_trans_time\n",
    "]\n",
    "user_max_trans_amt_last_5min"
   ]
  },
  {
   "cell_type": "code",
   "execution_count": 7,
   "metadata": {},
   "outputs": [
    {
     "data": {
      "text/html": [
       "<pre style=\"white-space:pre;overflow-x:auto;line-height:normal;font-family:Menlo,'DejaVu Sans Mono',consolas,'Courier New',monospace\">DatabaseTable: user_max_trans_amt_last_5min\n",
       "  user_id                      int64\n",
       "  user_max_trans_amt_last_5min float64\n",
       "  trans_date_trans_time        timestamp(3)\n",
       "</pre>\n"
      ],
      "text/plain": [
       "DatabaseTable: user_max_trans_amt_last_5min\n",
       "  user_id                      int64\n",
       "  user_max_trans_amt_last_5min float64\n",
       "  trans_date_trans_time        timestamp(3)"
      ]
     },
     "execution_count": 7,
     "metadata": {},
     "output_type": "execute_result"
    }
   ],
   "source": [
    "# 4. Creat Sink\n",
    "sink_topic_name = \"user_max_trans_amt_last_5min\"\n",
    "sink_schema = sch.Schema(\n",
    "    {\n",
    "        \"user_id\": dt.int64,\n",
    "        \"user_max_trans_amt_last_5min\": dt.float64,\n",
    "        \"trans_date_trans_time\": dt.timestamp(scale=3), # used for future temporal join\n",
    "    }\n",
    ")\n",
    "\n",
    "# Configure the sink table with Kafka connector properties for writing results.\n",
    "sink_configs = {\n",
    "    \"connector\": \"kafka\",\n",
    "    \"topic\": sink_topic_name,\n",
    "    \"properties.bootstrap.servers\": \"localhost:9092\" if local else \"kafka:29092\",\n",
    "    \"format\": \"debezium-json\", # \"debezium-json\" is needed for future temporal join.\n",
    "}\n",
    "\n",
    "sink_table = connection.create_table(\n",
    "    sink_topic_name, schema=sink_schema, tbl_properties=sink_configs\n",
    ")\n",
    "sink_table"
   ]
  },
  {
   "cell_type": "code",
   "execution_count": 8,
   "metadata": {},
   "outputs": [
    {
     "data": {
      "text/plain": [
       "<pyflink.table.table_result.TableResult at 0x7efd5c505300>"
      ]
     },
     "execution_count": 8,
     "metadata": {},
     "output_type": "execute_result"
    }
   ],
   "source": [
    "# 5. Emit query result to sink table\n",
    "connection.insert(sink_topic_name, user_max_trans_amt_last_5min)\n",
    "\n"
   ]
  },
  {
   "cell_type": "code",
   "execution_count": 9,
   "metadata": {},
   "outputs": [
    {
     "name": "stdout",
     "output_type": "stream",
     "text": [
      "ConsumerRecord(topic='user_max_trans_amt_last_5min', partition=0, offset=1340, timestamp=1705451276669, timestamp_type=0, key=None, value=b'{\"before\":null,\"after\":{\"user_id\":-7259942366803278983,\"user_max_trans_amt_last_5min\":74.41,\"trans_date_trans_time\":\"2024-01-17 00:27:41.494\"},\"op\":\"c\"}', headers=[], checksum=None, serialized_key_size=-1, serialized_value_size=152, serialized_header_size=-1)\n",
      "ConsumerRecord(topic='user_max_trans_amt_last_5min', partition=0, offset=1341, timestamp=1705451276669, timestamp_type=0, key=None, value=b'{\"before\":null,\"after\":{\"user_id\":-7880314530316364770,\"user_max_trans_amt_last_5min\":41.46,\"trans_date_trans_time\":\"2024-01-17 00:27:41.594\"},\"op\":\"c\"}', headers=[], checksum=None, serialized_key_size=-1, serialized_value_size=152, serialized_header_size=-1)\n",
      "ConsumerRecord(topic='user_max_trans_amt_last_5min', partition=0, offset=1342, timestamp=1705451276869, timestamp_type=0, key=None, value=b'{\"before\":null,\"after\":{\"user_id\":4229273253148774328,\"user_max_trans_amt_last_5min\":25.09,\"trans_date_trans_time\":\"2024-01-17 00:27:41.695\"},\"op\":\"c\"}', headers=[], checksum=None, serialized_key_size=-1, serialized_value_size=151, serialized_header_size=-1)\n",
      "ConsumerRecord(topic='user_max_trans_amt_last_5min', partition=0, offset=1343, timestamp=1705451276869, timestamp_type=0, key=None, value=b'{\"before\":null,\"after\":{\"user_id\":1554240874296823646,\"user_max_trans_amt_last_5min\":63.89,\"trans_date_trans_time\":\"2024-01-17 00:27:41.796\"},\"op\":\"c\"}', headers=[], checksum=None, serialized_key_size=-1, serialized_value_size=151, serialized_header_size=-1)\n",
      "ConsumerRecord(topic='user_max_trans_amt_last_5min', partition=0, offset=1344, timestamp=1705451276940, timestamp_type=0, key=None, value=b'{\"before\":null,\"after\":{\"user_id\":-7614522441901726661,\"user_max_trans_amt_last_5min\":4.97,\"trans_date_trans_time\":\"2024-01-17 00:25:41.693\"},\"op\":\"c\"}', headers=[], checksum=None, serialized_key_size=-1, serialized_value_size=151, serialized_header_size=-1)\n",
      "ConsumerRecord(topic='user_max_trans_amt_last_5min', partition=0, offset=1345, timestamp=1705451276944, timestamp_type=0, key=None, value=b'{\"before\":null,\"after\":{\"user_id\":-6937510336183930373,\"user_max_trans_amt_last_5min\":107.23,\"trans_date_trans_time\":\"2024-01-17 00:25:41.793\"},\"op\":\"c\"}', headers=[], checksum=None, serialized_key_size=-1, serialized_value_size=153, serialized_header_size=-1)\n",
      "ConsumerRecord(topic='user_max_trans_amt_last_5min', partition=0, offset=1346, timestamp=1705451276945, timestamp_type=0, key=None, value=b'{\"before\":null,\"after\":{\"user_id\":317984918867185094,\"user_max_trans_amt_last_5min\":220.11,\"trans_date_trans_time\":\"2024-01-17 00:25:41.894\"},\"op\":\"c\"}', headers=[], checksum=None, serialized_key_size=-1, serialized_value_size=151, serialized_header_size=-1)\n",
      "ConsumerRecord(topic='user_max_trans_amt_last_5min', partition=0, offset=1347, timestamp=1705451276945, timestamp_type=0, key=None, value=b'{\"before\":null,\"after\":{\"user_id\":7387290611684762084,\"user_max_trans_amt_last_5min\":45.0,\"trans_date_trans_time\":\"2024-01-17 00:25:41.995\"},\"op\":\"c\"}', headers=[], checksum=None, serialized_key_size=-1, serialized_value_size=150, serialized_header_size=-1)\n",
      "ConsumerRecord(topic='user_max_trans_amt_last_5min', partition=0, offset=1348, timestamp=1705451276946, timestamp_type=0, key=None, value=b'{\"before\":null,\"after\":{\"user_id\":-447777779991498651,\"user_max_trans_amt_last_5min\":41.96,\"trans_date_trans_time\":\"2024-01-17 00:25:42.096\"},\"op\":\"c\"}', headers=[], checksum=None, serialized_key_size=-1, serialized_value_size=151, serialized_header_size=-1)\n",
      "ConsumerRecord(topic='user_max_trans_amt_last_5min', partition=0, offset=1349, timestamp=1705451276946, timestamp_type=0, key=None, value=b'{\"before\":null,\"after\":{\"user_id\":3550301168845813312,\"user_max_trans_amt_last_5min\":94.63,\"trans_date_trans_time\":\"2024-01-17 00:25:42.196\"},\"op\":\"c\"}', headers=[], checksum=None, serialized_key_size=-1, serialized_value_size=151, serialized_header_size=-1)\n"
     ]
    }
   ],
   "source": [
    "if local:\n",
    "    # Use the Kafka Python client to stream records from the sink topic.\n",
    "    # Otherwise, the mini cluster will shut down upon script completion.\n",
    "    consumer = KafkaConsumer(sink_topic_name)\n",
    "    for _, msg in zip(range(10), consumer):\n",
    "        print(msg)"
   ]
  },
  {
   "cell_type": "code",
   "execution_count": null,
   "metadata": {},
   "outputs": [],
   "source": []
  }
 ],
 "metadata": {
  "kernelspec": {
   "display_name": "Python 3 (ipykernel)",
   "language": "python",
   "name": "python3"
  },
  "language_info": {
   "codemirror_mode": {
    "name": "ipython",
    "version": 3
   },
   "file_extension": ".py",
   "mimetype": "text/x-python",
   "name": "python",
   "nbconvert_exporter": "python",
   "pygments_lexer": "ipython3",
   "version": "3.10.13"
  },
  "orig_nbformat": 4
 },
 "nbformat": 4,
 "nbformat_minor": 2
}
