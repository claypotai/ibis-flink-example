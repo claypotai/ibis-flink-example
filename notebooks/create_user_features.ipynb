{
 "cells": [
  {
   "cell_type": "code",
   "execution_count": 1,
   "metadata": {},
   "outputs": [],
   "source": [
    "from kafka import KafkaConsumer\n",
    "from pyflink.table import EnvironmentSettings, TableEnvironment\n",
    "\n",
    "import ibis\n",
    "import ibis.expr.datatypes as dt\n",
    "import ibis.expr.schema as sch"
   ]
  },
  {
   "cell_type": "code",
   "execution_count": 2,
   "metadata": {},
   "outputs": [
    {
     "name": "stdout",
     "output_type": "stream",
     "text": [
      "(0, ConsumerRecord(topic='transaction', partition=0, offset=2871294, timestamp=1705710502529, timestamp_type=0, key=None, value=b'{\"trans_date_trans_time\": \"2013-02-23 21:45:37\", \"cc_num\": 3583640000000000, \"merchant\": \"fraud_Nolan-Williamson\", \"category\": \"kids_pets\", \"amt\": 46.83, \"first\": \"Crystal\", \"last\": \"Gamble\", \"zipcode\": \"19149\", \"dob\": \"1/1/85\", \"trans_num\": \"937dd8f9ed831fd6f589185540253c03\", \"is_fraud\": 0, \"user_id\": 3305555113370964802}', headers=[], checksum=None, serialized_key_size=-1, serialized_value_size=324, serialized_header_size=-1))\n",
      "(1, ConsumerRecord(topic='transaction', partition=0, offset=2871295, timestamp=1705710502530, timestamp_type=0, key=None, value=b'{\"trans_date_trans_time\": \"2013-02-23 21:46:14\", \"cc_num\": 3568260000000000, \"merchant\": \"fraud_Johns-Hoeger\", \"category\": \"entertainment\", \"amt\": 107.75, \"first\": \"Timothy\", \"last\": \"Gomez\", \"zipcode\": \"46765\", \"dob\": \"11/24/94\", \"trans_num\": \"575eb60c60d07f27f84281affbe0dd7b\", \"is_fraud\": 0, \"user_id\": 4293578404277970939}', headers=[], checksum=None, serialized_key_size=-1, serialized_value_size=326, serialized_header_size=-1))\n",
      "(2, ConsumerRecord(topic='transaction', partition=0, offset=2871296, timestamp=1705710502530, timestamp_type=0, key=None, value=b'{\"trans_date_trans_time\": \"2013-02-23 21:46:20\", \"cc_num\": 4792630000000000000, \"merchant\": \"fraud_Pollich LLC\", \"category\": \"home\", \"amt\": 66.07, \"first\": \"Margaret\", \"last\": \"Mendez\", \"zipcode\": \"66018\", \"dob\": \"10/1/78\", \"trans_num\": \"d584de4bdc28b8cdc1dc3cd81766b13c\", \"is_fraud\": 0, \"user_id\": -8872451576337969333}', headers=[], checksum=None, serialized_key_size=-1, serialized_value_size=320, serialized_header_size=-1))\n",
      "(3, ConsumerRecord(topic='transaction', partition=0, offset=2871297, timestamp=1705710502530, timestamp_type=0, key=None, value=b'{\"trans_date_trans_time\": \"2013-02-23 21:46:27\", \"cc_num\": 502050000000, \"merchant\": \"fraud_Roberts, Daniel and Macejkovic\", \"category\": \"kids_pets\", \"amt\": 155.37, \"first\": \"Daniel\", \"last\": \"Melton\", \"zipcode\": \"6444\", \"dob\": \"2/13/62\", \"trans_num\": \"a840c8c664bfc0b7b88f29c995050ef5\", \"is_fraud\": 0, \"user_id\": 8995337986583665198}', headers=[], checksum=None, serialized_key_size=-1, serialized_value_size=334, serialized_header_size=-1))\n",
      "(4, ConsumerRecord(topic='transaction', partition=0, offset=2871298, timestamp=1705710502530, timestamp_type=0, key=None, value=b'{\"trans_date_trans_time\": \"2013-02-23 21:46:57\", \"cc_num\": 4488940000000000, \"merchant\": \"fraud_Windler LLC\", \"category\": \"kids_pets\", \"amt\": 34.41, \"first\": \"Jacqueline\", \"last\": \"Washington\", \"zipcode\": \"32784\", \"dob\": \"3/31/86\", \"trans_num\": \"c7feced5dfc89c9e294de4dc59008ba2\", \"is_fraud\": 0, \"user_id\": 6917497330025520483}', headers=[], checksum=None, serialized_key_size=-1, serialized_value_size=327, serialized_header_size=-1))\n",
      "(5, ConsumerRecord(topic='transaction', partition=0, offset=2871299, timestamp=1705710502530, timestamp_type=0, key=None, value=b'{\"trans_date_trans_time\": \"2013-02-23 21:47:36\", \"cc_num\": 180011000000000, \"merchant\": \"fraud_Kuhn Group\", \"category\": \"food_dining\", \"amt\": 58.69, \"first\": \"Craig\", \"last\": \"Dunn\", \"zipcode\": \"61272\", \"dob\": \"10/5/93\", \"trans_num\": \"25b4b0ddc58e8e04fd7ef1c5dec5807d\", \"is_fraud\": 0, \"user_id\": -5409716145620787697}', headers=[], checksum=None, serialized_key_size=-1, serialized_value_size=317, serialized_header_size=-1))\n",
      "(6, ConsumerRecord(topic='transaction', partition=0, offset=2871300, timestamp=1705710502530, timestamp_type=0, key=None, value=b'{\"trans_date_trans_time\": \"2013-02-23 21:47:53\", \"cc_num\": 4149640000000, \"merchant\": \"fraud_Simonis-Prohaska\", \"category\": \"misc_pos\", \"amt\": 4.45, \"first\": \"Samuel\", \"last\": \"Farrell\", \"zipcode\": \"35049\", \"dob\": \"6/14/77\", \"trans_num\": \"c0a7660eebcae5102feb1f987074cf71\", \"is_fraud\": 0, \"user_id\": -1622664080659152114}', headers=[], checksum=None, serialized_key_size=-1, serialized_value_size=321, serialized_header_size=-1))\n",
      "(7, ConsumerRecord(topic='transaction', partition=0, offset=2871301, timestamp=1705710502530, timestamp_type=0, key=None, value=b'{\"trans_date_trans_time\": \"2013-02-23 21:48:52\", \"cc_num\": 30197400000000, \"merchant\": \"fraud_Treutel-King\", \"category\": \"travel\", \"amt\": 4.22, \"first\": \"April\", \"last\": \"Johnson\", \"zipcode\": \"27522\", \"dob\": \"9/19/87\", \"trans_num\": \"89061e9c175f760c3791d758f674d6ca\", \"is_fraud\": 0, \"user_id\": -3419270844635056658}', headers=[], checksum=None, serialized_key_size=-1, serialized_value_size=315, serialized_header_size=-1))\n",
      "(8, ConsumerRecord(topic='transaction', partition=0, offset=2871302, timestamp=1705710502530, timestamp_type=0, key=None, value=b'{\"trans_date_trans_time\": \"2013-02-23 21:49:20\", \"cc_num\": 213153000000000, \"merchant\": \"fraud_Connelly PLC\", \"category\": \"food_dining\", \"amt\": 10.8, \"first\": \"Rebecca\", \"last\": \"Conley\", \"zipcode\": \"54487\", \"dob\": \"11/23/97\", \"trans_num\": \"6bb4cc312df1fd3823c2d8740e61425b\", \"is_fraud\": 0, \"user_id\": -6171652547854637485}', headers=[], checksum=None, serialized_key_size=-1, serialized_value_size=323, serialized_header_size=-1))\n",
      "(9, ConsumerRecord(topic='transaction', partition=0, offset=2871303, timestamp=1705710502530, timestamp_type=0, key=None, value=b'{\"trans_date_trans_time\": \"2013-02-23 21:49:33\", \"cc_num\": 3533010000000000, \"merchant\": \"fraud_Hartmann, Rowe and Hermann\", \"category\": \"travel\", \"amt\": 3.07, \"first\": \"Megan\", \"last\": \"Bernard\", \"zipcode\": \"13304\", \"dob\": \"3/1/94\", \"trans_num\": \"ae4689a11821f09da742a127163c29b3\", \"is_fraud\": 0, \"user_id\": -57259898975371332}', headers=[], checksum=None, serialized_key_size=-1, serialized_value_size=328, serialized_header_size=-1))\n"
     ]
    }
   ],
   "source": [
    "consumer = KafkaConsumer(\"transaction\")\n",
    "for msg in zip(range(10), consumer):\n",
    "    print(msg)"
   ]
  },
  {
   "cell_type": "code",
   "execution_count": 3,
   "metadata": {},
   "outputs": [
    {
     "data": {
      "text/plain": [
       "<pyflink.table.table_result.TableResult at 0x7f5229618340>"
      ]
     },
     "execution_count": 3,
     "metadata": {},
     "output_type": "execute_result"
    }
   ],
   "source": [
    "local = True\n",
    "\n",
    "# 1. create a TableEnvironment\n",
    "env_settings = EnvironmentSettings.in_streaming_mode()\n",
    "table_env = TableEnvironment.create(env_settings)\n",
    "# write all the data to one file\n",
    "table_env.get_config().set(\"parallelism.default\", \"1\")\n",
    "\n",
    "# The `flink` backend does not create `TableEnvironment` objects; pass\n",
    "# the `TableEnvironment` object created above to `ibis.flink.connect`.\n",
    "connection = ibis.flink.connect(table_env)\n",
    "\n",
    "# Flink’s streaming connectors aren't part of the binary distribution.\n",
    "# Link the Kafka connector for cluster execution by adding a JAR file.\n",
    "connection._exec_sql(\"ADD JAR '../flink-sql-connector-kafka-3.0.2-1.18.jar'\")"
   ]
  },
  {
   "cell_type": "code",
   "execution_count": 4,
   "metadata": {},
   "outputs": [],
   "source": [
    "# 2. Create source table\n",
    "source_topic_name = \"transaction\"\n",
    "kafka_offset = \"earliest-offset\"\n",
    "source_schema = sch.Schema(\n",
    "    {\n",
    "        \"user_id\": dt.int64,\n",
    "        \"trans_date_trans_time\": dt.timestamp(scale=3),\n",
    "        \"cc_num\": dt.int64,\n",
    "        \"amt\": dt.float64,\n",
    "        \"trans_num\": dt.str,\n",
    "        \"merchant\": dt.str,\n",
    "        \"category\": dt.str ,      \n",
    "        \"is_fraud\": dt.int32,\n",
    "        \"first\": dt.str,\n",
    "        \"last\": dt.str,\n",
    "        \"dob\": dt.str,\n",
    "        \"zipcode\": dt.str,\n",
    "    }\n",
    ")\n",
    "\n",
    "# Configure the source table with Kafka connector properties.\n",
    "source_configs = {\n",
    "    \"connector\": \"kafka\",\n",
    "    \"topic\": source_topic_name,\n",
    "    \"properties.bootstrap.servers\": \"localhost:9092\" if local else \"kafka:29092\",\n",
    "    \"properties.group.id\": \"test\",\n",
    "    \"scan.startup.mode\": kafka_offset,\n",
    "    \"format\": \"json\",\n",
    "}\n",
    "\n",
    "# Create the source table using the defined schema, Kafka connector properties,\n",
    "# and set watermarking for real-time processing with a 15-second delay.\n",
    "source_table = connection.create_table(\n",
    "    source_topic_name,\n",
    "    schema=source_schema,\n",
    "    tbl_properties=source_configs,\n",
    "    watermark=ibis.watermark(\n",
    "        time_col=\"trans_date_trans_time\", allowed_delay=ibis.interval(seconds=15)\n",
    "    ),\n",
    ")\n"
   ]
  },
  {
   "cell_type": "code",
   "execution_count": 5,
   "metadata": {},
   "outputs": [
    {
     "data": {
      "text/html": [
       "<pre style=\"white-space:pre;overflow-x:auto;line-height:normal;font-family:Menlo,'DejaVu Sans Mono',consolas,'Courier New',monospace\">DatabaseTable: transaction\n",
       "  user_id               int64\n",
       "  trans_date_trans_time timestamp(3)\n",
       "  cc_num                int64\n",
       "  amt                   float64\n",
       "  trans_num             string\n",
       "  merchant              string\n",
       "  category              string\n",
       "  is_fraud              int32\n",
       "  first                 string\n",
       "  last                  string\n",
       "  dob                   string\n",
       "  zipcode               string\n",
       "</pre>\n"
      ],
      "text/plain": [
       "DatabaseTable: transaction\n",
       "  user_id               int64\n",
       "  trans_date_trans_time timestamp(3)\n",
       "  cc_num                int64\n",
       "  amt                   float64\n",
       "  trans_num             string\n",
       "  merchant              string\n",
       "  category              string\n",
       "  is_fraud              int32\n",
       "  first                 string\n",
       "  last                  string\n",
       "  dob                   string\n",
       "  zipcode               string"
      ]
     },
     "execution_count": 5,
     "metadata": {},
     "output_type": "execute_result"
    }
   ],
   "source": [
    "source_table"
   ]
  },
  {
   "cell_type": "code",
   "execution_count": 6,
   "metadata": {},
   "outputs": [],
   "source": [
    "# 3. Feature Generation using Flink backend\n",
    "# Define a window specification for aggregating maximum transaction amount over the last 5 minutes.\n",
    "# The aggregation is partitioned by user_id and ordered by trans_date_trans_time.\n",
    "# The window range is set to the interval from 5 minutes ago to the current time.\n",
    "user_trans_amt_last_360m_agg = source_table[\n",
    "    source_table.user_id,\n",
    "    # Calculate the maximum transaction amount over the specified window.\n",
    "    source_table.amt.max().over(\n",
    "        ibis.window(\n",
    "            group_by=source_table.user_id,\n",
    "            order_by=source_table.trans_date_trans_time,\n",
    "            range=(-ibis.interval(minutes=360), 0),\n",
    "        )\n",
    "    ).name(\"user_max_trans_amt_last_360min\"),\n",
    "    # Calculate the min transaction amount over the specified window.\n",
    "    source_table.amt.min().over(\n",
    "        ibis.window(\n",
    "            group_by=source_table.user_id,\n",
    "            order_by=source_table.trans_date_trans_time,\n",
    "            range=(-ibis.interval(minutes=360), 0),\n",
    "        )\n",
    "    ).name(\"user_min_trans_amt_last_360min\"),\n",
    "    # Calculate the average transaction amount over the specified window.\n",
    "    source_table.amt.mean().over(\n",
    "        ibis.window(\n",
    "            group_by=source_table.user_id,\n",
    "            order_by=source_table.trans_date_trans_time,\n",
    "            range=(-ibis.interval(minutes=360), 0),\n",
    "        )\n",
    "    ).name(\"user_mean_trans_amt_last_360min\"),\n",
    "    # Calculate the average transaction amount over the specified window.\n",
    "    source_table.amt.count().over(\n",
    "        ibis.window(\n",
    "            group_by=source_table.user_id,\n",
    "            order_by=source_table.trans_date_trans_time,\n",
    "            range=(-ibis.interval(minutes=360), 0),\n",
    "        )\n",
    "    ).name(\"user_trans_count_last_360min\"),\n",
    "    source_table.trans_date_trans_time\n",
    "]"
   ]
  },
  {
   "cell_type": "code",
   "execution_count": 8,
   "metadata": {},
   "outputs": [
    {
     "data": {
      "text/html": [
       "<pre style=\"white-space:pre;overflow-x:auto;line-height:normal;font-family:Menlo,'DejaVu Sans Mono',consolas,'Courier New',monospace\">DatabaseTable: user_trans_amt_last_360min\n",
       "  user_id                         int64\n",
       "  user_max_trans_amt_last_360min  float64\n",
       "  user_min_trans_amt_last_360min  float64\n",
       "  user_mean_trans_amt_last_360min float64\n",
       "  user_trans_count_last_360min    int64\n",
       "  trans_date_trans_time           timestamp(3)\n",
       "</pre>\n"
      ],
      "text/plain": [
       "DatabaseTable: user_trans_amt_last_360min\n",
       "  user_id                         int64\n",
       "  user_max_trans_amt_last_360min  float64\n",
       "  user_min_trans_amt_last_360min  float64\n",
       "  user_mean_trans_amt_last_360min float64\n",
       "  user_trans_count_last_360min    int64\n",
       "  trans_date_trans_time           timestamp(3)"
      ]
     },
     "execution_count": 8,
     "metadata": {},
     "output_type": "execute_result"
    }
   ],
   "source": [
    "# 4. Creat Sink\n",
    "sink_topic_name = \"user_trans_amt_last_360min\"\n",
    "sink_schema = sch.Schema(\n",
    "    {\n",
    "        \"user_id\": dt.int64,\n",
    "        \"user_max_trans_amt_last_360min\": dt.float64,\n",
    "        \"user_min_trans_amt_last_360min\": dt.float64,\n",
    "        \"user_mean_trans_amt_last_360min\": dt.float64,\n",
    "        \"user_trans_count_last_360min\": dt.int64,\n",
    "        \"trans_date_trans_time\": dt.timestamp(scale=3), # used for future temporal join\n",
    "    }\n",
    ")\n",
    "\n",
    "# Configure the sink table with Kafka connector properties for writing results.\n",
    "sink_configs = {\n",
    "    \"connector\": \"kafka\",\n",
    "    \"topic\": sink_topic_name,\n",
    "    \"properties.bootstrap.servers\": \"localhost:9092\" if local else \"kafka:29092\",\n",
    "    \"format\": \"debezium-json\", # \"debezium-json\" is needed for future temporal join.\n",
    "}\n",
    "\n",
    "sink_table = connection.create_table(\n",
    "    sink_topic_name, schema=sink_schema, tbl_properties=sink_configs, overwrite=True\n",
    ")\n",
    "sink_table"
   ]
  },
  {
   "cell_type": "code",
   "execution_count": 9,
   "metadata": {},
   "outputs": [
    {
     "data": {
      "text/plain": [
       "<pyflink.table.table_result.TableResult at 0x7f5228232bc0>"
      ]
     },
     "execution_count": 9,
     "metadata": {},
     "output_type": "execute_result"
    }
   ],
   "source": [
    "# 5. Emit query result to sink table\n",
    "connection.insert(sink_topic_name, user_trans_amt_last_360m_agg)\n",
    "\n"
   ]
  },
  {
   "cell_type": "code",
   "execution_count": 10,
   "metadata": {},
   "outputs": [
    {
     "name": "stdout",
     "output_type": "stream",
     "text": [
      "ConsumerRecord(topic='user_trans_amt_last_360min', partition=0, offset=3582329, timestamp=1705710539783, timestamp_type=0, key=None, value=b'{\"before\":null,\"after\":{\"user_id\":-9066734533508613396,\"user_max_trans_amt_last_360min\":62.07,\"user_min_trans_amt_last_360min\":6.33,\"user_mean_trans_amt_last_360min\":25.04999999999999,\"user_trans_count_last_360min\":5,\"trans_date_trans_time\":\"2012-03-10 19:39:43\"},\"op\":\"c\"}', headers=[], checksum=None, serialized_key_size=-1, serialized_value_size=273, serialized_header_size=-1)\n",
      "ConsumerRecord(topic='user_trans_amt_last_360min', partition=0, offset=3582330, timestamp=1705710539783, timestamp_type=0, key=None, value=b'{\"before\":null,\"after\":{\"user_id\":2858219371830316374,\"user_max_trans_amt_last_360min\":309.96,\"user_min_trans_amt_last_360min\":4.43,\"user_mean_trans_amt_last_360min\":107.69666666666666,\"user_trans_count_last_360min\":3,\"trans_date_trans_time\":\"2012-03-10 19:40:32\"},\"op\":\"c\"}', headers=[], checksum=None, serialized_key_size=-1, serialized_value_size=274, serialized_header_size=-1)\n",
      "ConsumerRecord(topic='user_trans_amt_last_360min', partition=0, offset=3582331, timestamp=1705710539783, timestamp_type=0, key=None, value=b'{\"before\":null,\"after\":{\"user_id\":995772084845064489,\"user_max_trans_amt_last_360min\":87.56,\"user_min_trans_amt_last_360min\":1.8,\"user_mean_trans_amt_last_360min\":44.68000000000003,\"user_trans_count_last_360min\":2,\"trans_date_trans_time\":\"2012-03-10 19:40:45\"},\"op\":\"c\"}', headers=[], checksum=None, serialized_key_size=-1, serialized_value_size=270, serialized_header_size=-1)\n",
      "ConsumerRecord(topic='user_trans_amt_last_360min', partition=0, offset=3582332, timestamp=1705710539783, timestamp_type=0, key=None, value=b'{\"before\":null,\"after\":{\"user_id\":-851652066994593827,\"user_max_trans_amt_last_360min\":73.74,\"user_min_trans_amt_last_360min\":73.74,\"user_mean_trans_amt_last_360min\":73.74000000000001,\"user_trans_count_last_360min\":1,\"trans_date_trans_time\":\"2012-03-10 19:41:24\"},\"op\":\"c\"}', headers=[], checksum=None, serialized_key_size=-1, serialized_value_size=273, serialized_header_size=-1)\n",
      "ConsumerRecord(topic='user_trans_amt_last_360min', partition=0, offset=3582333, timestamp=1705710539783, timestamp_type=0, key=None, value=b'{\"before\":null,\"after\":{\"user_id\":4919383216706994022,\"user_max_trans_amt_last_360min\":107.17,\"user_min_trans_amt_last_360min\":107.17,\"user_mean_trans_amt_last_360min\":107.17000000000002,\"user_trans_count_last_360min\":1,\"trans_date_trans_time\":\"2012-03-10 19:41:33\"},\"op\":\"c\"}', headers=[], checksum=None, serialized_key_size=-1, serialized_value_size=276, serialized_header_size=-1)\n",
      "ConsumerRecord(topic='user_trans_amt_last_360min', partition=0, offset=3582334, timestamp=1705710539783, timestamp_type=0, key=None, value=b'{\"before\":null,\"after\":{\"user_id\":-8434593547030613929,\"user_max_trans_amt_last_360min\":1.8,\"user_min_trans_amt_last_360min\":1.8,\"user_mean_trans_amt_last_360min\":1.7999999999999774,\"user_trans_count_last_360min\":1,\"trans_date_trans_time\":\"2012-03-10 19:41:45\"},\"op\":\"c\"}', headers=[], checksum=None, serialized_key_size=-1, serialized_value_size=271, serialized_header_size=-1)\n",
      "ConsumerRecord(topic='user_trans_amt_last_360min', partition=0, offset=3582335, timestamp=1705710539783, timestamp_type=0, key=None, value=b'{\"before\":null,\"after\":{\"user_id\":3399172428438912487,\"user_max_trans_amt_last_360min\":66.5,\"user_min_trans_amt_last_360min\":66.5,\"user_mean_trans_amt_last_360min\":66.50000000000006,\"user_trans_count_last_360min\":1,\"trans_date_trans_time\":\"2012-03-10 19:44:49\"},\"op\":\"c\"}', headers=[], checksum=None, serialized_key_size=-1, serialized_value_size=271, serialized_header_size=-1)\n",
      "ConsumerRecord(topic='user_trans_amt_last_360min', partition=0, offset=3582336, timestamp=1705710539783, timestamp_type=0, key=None, value=b'{\"before\":null,\"after\":{\"user_id\":7955887427480355810,\"user_max_trans_amt_last_360min\":69.0,\"user_min_trans_amt_last_360min\":1.28,\"user_mean_trans_amt_last_360min\":35.14,\"user_trans_count_last_360min\":2,\"trans_date_trans_time\":\"2012-03-10 19:45:27\"},\"op\":\"c\"}', headers=[], checksum=None, serialized_key_size=-1, serialized_value_size=259, serialized_header_size=-1)\n",
      "ConsumerRecord(topic='user_trans_amt_last_360min', partition=0, offset=3582337, timestamp=1705710539783, timestamp_type=0, key=None, value=b'{\"before\":null,\"after\":{\"user_id\":3113026553914317622,\"user_max_trans_amt_last_360min\":592.8,\"user_min_trans_amt_last_360min\":62.83,\"user_mean_trans_amt_last_360min\":327.815,\"user_trans_count_last_360min\":2,\"trans_date_trans_time\":\"2012-03-10 19:45:44\"},\"op\":\"c\"}', headers=[], checksum=None, serialized_key_size=-1, serialized_value_size=263, serialized_header_size=-1)\n",
      "ConsumerRecord(topic='user_trans_amt_last_360min', partition=0, offset=3582338, timestamp=1705710539783, timestamp_type=0, key=None, value=b'{\"before\":null,\"after\":{\"user_id\":-4583957078746055681,\"user_max_trans_amt_last_360min\":168.77,\"user_min_trans_amt_last_360min\":1.35,\"user_mean_trans_amt_last_360min\":70.97500000000001,\"user_trans_count_last_360min\":4,\"trans_date_trans_time\":\"2012-03-10 19:46:23\"},\"op\":\"c\"}', headers=[], checksum=None, serialized_key_size=-1, serialized_value_size=274, serialized_header_size=-1)\n"
     ]
    }
   ],
   "source": [
    "if local:\n",
    "    # Use the Kafka Python client to stream records from the sink topic.\n",
    "    # Otherwise, the mini cluster will shut down upon script completion.\n",
    "    consumer = KafkaConsumer(sink_topic_name)\n",
    "    for _, msg in zip(range(10), consumer):\n",
    "        print(msg)"
   ]
  },
  {
   "cell_type": "markdown",
   "metadata": {},
   "source": [
    "## Alternative ways to calculate window aggregations"
   ]
  },
  {
   "cell_type": "code",
   "execution_count": 15,
   "metadata": {},
   "outputs": [],
   "source": [
    "''' \n",
    "Different window options \n",
    "    1. tumble(): a fixed size and do not overlap\n",
    "    2. hop(): Hopping windows have a fixed size and can be overlapping if the slide is smaller than the window size \n",
    "    3. cumulate(): Cumulate windows don't have a fixed size and do overlap\n",
    "'''\n",
    "windowed_stream =  source_table.window_by(\n",
    "        time_col=source_table.trans_date_trans_time,\n",
    "    ).tumble(\n",
    "        window_size=ibis.interval(minutes=360)\n",
    "    )\n",
    "\n",
    "\n",
    "user_trans_amt_last_360m_agg_windowed_stream = windowed_stream.group_by(\n",
    "        [\"window_start\", \"window_end\", \"user_id\"]\n",
    "    ).agg(\n",
    "        user_max_trans_amt_last_360min=windowed_stream.amt.max(),\n",
    "        user_min_trans_amt_last_360min=windowed_stream.amt.min(),\n",
    "        user_mean_trans_amt_last_360min=windowed_stream.amt.mean(),\n",
    "    )"
   ]
  },
  {
   "cell_type": "code",
   "execution_count": 16,
   "metadata": {},
   "outputs": [
    {
     "data": {
      "text/html": [
       "<pre style=\"white-space:pre;overflow-x:auto;line-height:normal;font-family:Menlo,'DejaVu Sans Mono',consolas,'Courier New',monospace\">DatabaseTable: user_trans_amt_last_360min_windowed\n",
       "  window_start                    timestamp(3)\n",
       "  window_end                      timestamp(3)\n",
       "  user_id                         int64\n",
       "  user_max_trans_amt_last_360min  float64\n",
       "  user_min_trans_amt_last_360min  float64\n",
       "  user_mean_trans_amt_last_360min float64\n",
       "</pre>\n"
      ],
      "text/plain": [
       "DatabaseTable: user_trans_amt_last_360min_windowed\n",
       "  window_start                    timestamp(3)\n",
       "  window_end                      timestamp(3)\n",
       "  user_id                         int64\n",
       "  user_max_trans_amt_last_360min  float64\n",
       "  user_min_trans_amt_last_360min  float64\n",
       "  user_mean_trans_amt_last_360min float64"
      ]
     },
     "execution_count": 16,
     "metadata": {},
     "output_type": "execute_result"
    }
   ],
   "source": [
    "# 4. Creat Sink\n",
    "sink_topic_name = \"user_trans_amt_last_360min_windowed\"\n",
    "sink_schema = sch.Schema(\n",
    "    {\n",
    "        \n",
    "        \"window_start\": dt.timestamp(scale=3), # used for future temporal join\n",
    "        \"window_end\": dt.timestamp(scale=3), # used for future temporal join\n",
    "        \"user_id\": dt.int64,\n",
    "        'user_max_trans_amt_last_360min': dt.float64,\n",
    "        'user_min_trans_amt_last_360min': dt.float64,\n",
    "        'user_mean_trans_amt_last_360min': dt.float64\n",
    "    }\n",
    ")\n",
    "\n",
    "# Configure the sink table with Kafka connector properties for writing results.\n",
    "sink_configs = {\n",
    "    \"connector\": \"kafka\",\n",
    "    \"topic\": sink_topic_name,\n",
    "    \"properties.bootstrap.servers\": \"localhost:9092\" if local else \"kafka:29092\",\n",
    "    \"format\": \"debezium-json\", # \"debezium-json\" is needed for future temporal join.\n",
    "}\n",
    "\n",
    "sink_table = connection.create_table(\n",
    "    sink_topic_name, schema=sink_schema, tbl_properties=sink_configs, overwrite=True\n",
    ")\n",
    "sink_table"
   ]
  },
  {
   "cell_type": "code",
   "execution_count": 17,
   "metadata": {},
   "outputs": [
    {
     "data": {
      "text/plain": [
       "<pyflink.table.table_result.TableResult at 0x7f5228127880>"
      ]
     },
     "execution_count": 17,
     "metadata": {},
     "output_type": "execute_result"
    }
   ],
   "source": [
    "# 5. Emit query result to sink table\n",
    "connection.insert(sink_topic_name, user_trans_amt_last_360m_agg_windowed_stream)"
   ]
  },
  {
   "cell_type": "code",
   "execution_count": 14,
   "metadata": {},
   "outputs": [
    {
     "name": "stdout",
     "output_type": "stream",
     "text": [
      "ConsumerRecord(topic='user_trans_amt_last_360min_windowed', partition=0, offset=1154519, timestamp=1705710553974, timestamp_type=0, key=None, value=b'{\"before\":null,\"after\":{\"window_start\":\"2012-04-17 12:00:00\",\"window_end\":\"2012-04-17 18:00:00\",\"user_id\":5430991157310724696,\"user_max_trans_amt_last_360min\":3.6,\"user_min_trans_amt_last_360min\":1.69,\"user_mean_trans_amt_last_360min\":2.645},\"op\":\"c\"}', headers=[], checksum=None, serialized_key_size=-1, serialized_value_size=251, serialized_header_size=-1)\n",
      "ConsumerRecord(topic='user_trans_amt_last_360min_windowed', partition=0, offset=1154520, timestamp=1705710553974, timestamp_type=0, key=None, value=b'{\"before\":null,\"after\":{\"window_start\":\"2012-04-17 12:00:00\",\"window_end\":\"2012-04-17 18:00:00\",\"user_id\":542587461304505579,\"user_max_trans_amt_last_360min\":84.02,\"user_min_trans_amt_last_360min\":84.02,\"user_mean_trans_amt_last_360min\":84.02},\"op\":\"c\"}', headers=[], checksum=None, serialized_key_size=-1, serialized_value_size=253, serialized_header_size=-1)\n",
      "ConsumerRecord(topic='user_trans_amt_last_360min_windowed', partition=0, offset=1154521, timestamp=1705710553974, timestamp_type=0, key=None, value=b'{\"before\":null,\"after\":{\"window_start\":\"2012-04-17 12:00:00\",\"window_end\":\"2012-04-17 18:00:00\",\"user_id\":6293595866766959087,\"user_max_trans_amt_last_360min\":14.53,\"user_min_trans_amt_last_360min\":14.53,\"user_mean_trans_amt_last_360min\":14.53},\"op\":\"c\"}', headers=[], checksum=None, serialized_key_size=-1, serialized_value_size=254, serialized_header_size=-1)\n",
      "ConsumerRecord(topic='user_trans_amt_last_360min_windowed', partition=0, offset=1154522, timestamp=1705710553974, timestamp_type=0, key=None, value=b'{\"before\":null,\"after\":{\"window_start\":\"2012-04-17 12:00:00\",\"window_end\":\"2012-04-17 18:00:00\",\"user_id\":8491896702904808061,\"user_max_trans_amt_last_360min\":73.51,\"user_min_trans_amt_last_360min\":73.51,\"user_mean_trans_amt_last_360min\":73.51},\"op\":\"c\"}', headers=[], checksum=None, serialized_key_size=-1, serialized_value_size=254, serialized_header_size=-1)\n",
      "ConsumerRecord(topic='user_trans_amt_last_360min_windowed', partition=0, offset=1154523, timestamp=1705710553974, timestamp_type=0, key=None, value=b'{\"before\":null,\"after\":{\"window_start\":\"2012-04-17 12:00:00\",\"window_end\":\"2012-04-17 18:00:00\",\"user_id\":6985584513954767224,\"user_max_trans_amt_last_360min\":4.45,\"user_min_trans_amt_last_360min\":4.45,\"user_mean_trans_amt_last_360min\":4.45},\"op\":\"c\"}', headers=[], checksum=None, serialized_key_size=-1, serialized_value_size=251, serialized_header_size=-1)\n",
      "ConsumerRecord(topic='user_trans_amt_last_360min_windowed', partition=0, offset=1154524, timestamp=1705710553974, timestamp_type=0, key=None, value=b'{\"before\":null,\"after\":{\"window_start\":\"2012-04-17 12:00:00\",\"window_end\":\"2012-04-17 18:00:00\",\"user_id\":-9073875895012125283,\"user_max_trans_amt_last_360min\":15.33,\"user_min_trans_amt_last_360min\":15.33,\"user_mean_trans_amt_last_360min\":15.33},\"op\":\"c\"}', headers=[], checksum=None, serialized_key_size=-1, serialized_value_size=255, serialized_header_size=-1)\n",
      "ConsumerRecord(topic='user_trans_amt_last_360min_windowed', partition=0, offset=1154525, timestamp=1705710553974, timestamp_type=0, key=None, value=b'{\"before\":null,\"after\":{\"window_start\":\"2012-04-17 12:00:00\",\"window_end\":\"2012-04-17 18:00:00\",\"user_id\":-8763626122906618223,\"user_max_trans_amt_last_360min\":42.1,\"user_min_trans_amt_last_360min\":42.1,\"user_mean_trans_amt_last_360min\":42.1},\"op\":\"c\"}', headers=[], checksum=None, serialized_key_size=-1, serialized_value_size=252, serialized_header_size=-1)\n",
      "ConsumerRecord(topic='user_trans_amt_last_360min_windowed', partition=0, offset=1154526, timestamp=1705710553974, timestamp_type=0, key=None, value=b'{\"before\":null,\"after\":{\"window_start\":\"2012-04-17 12:00:00\",\"window_end\":\"2012-04-17 18:00:00\",\"user_id\":-877195841854387574,\"user_max_trans_amt_last_360min\":8.55,\"user_min_trans_amt_last_360min\":5.8,\"user_mean_trans_amt_last_360min\":7.175000000000001},\"op\":\"c\"}', headers=[], checksum=None, serialized_key_size=-1, serialized_value_size=263, serialized_header_size=-1)\n",
      "ConsumerRecord(topic='user_trans_amt_last_360min_windowed', partition=0, offset=1154527, timestamp=1705710553974, timestamp_type=0, key=None, value=b'{\"before\":null,\"after\":{\"window_start\":\"2012-04-17 12:00:00\",\"window_end\":\"2012-04-17 18:00:00\",\"user_id\":8029891816727371027,\"user_max_trans_amt_last_360min\":84.54,\"user_min_trans_amt_last_360min\":4.5,\"user_mean_trans_amt_last_360min\":33.21},\"op\":\"c\"}', headers=[], checksum=None, serialized_key_size=-1, serialized_value_size=252, serialized_header_size=-1)\n",
      "ConsumerRecord(topic='user_trans_amt_last_360min_windowed', partition=0, offset=1154528, timestamp=1705710553974, timestamp_type=0, key=None, value=b'{\"before\":null,\"after\":{\"window_start\":\"2012-04-17 12:00:00\",\"window_end\":\"2012-04-17 18:00:00\",\"user_id\":8782459321062582236,\"user_max_trans_amt_last_360min\":4.95,\"user_min_trans_amt_last_360min\":4.09,\"user_mean_trans_amt_last_360min\":4.52},\"op\":\"c\"}', headers=[], checksum=None, serialized_key_size=-1, serialized_value_size=251, serialized_header_size=-1)\n"
     ]
    }
   ],
   "source": [
    "if local:\n",
    "    # Use the Kafka Python client to stream records from the sink topic.\n",
    "    # Otherwise, the mini cluster will shut down upon script completion.\n",
    "    consumer = KafkaConsumer(sink_topic_name)\n",
    "    for _, msg in zip(range(10), consumer):\n",
    "        print(msg)"
   ]
  }
 ],
 "metadata": {
  "kernelspec": {
   "display_name": "Python 3 (ipykernel)",
   "language": "python",
   "name": "python3"
  },
  "language_info": {
   "codemirror_mode": {
    "name": "ipython",
    "version": 3
   },
   "file_extension": ".py",
   "mimetype": "text/x-python",
   "name": "python",
   "nbconvert_exporter": "python",
   "pygments_lexer": "ipython3",
   "version": "3.10.13"
  },
  "orig_nbformat": 4
 },
 "nbformat": 4,
 "nbformat_minor": 2
}
