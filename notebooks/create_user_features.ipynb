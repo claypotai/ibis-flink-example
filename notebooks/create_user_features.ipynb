{
 "cells": [
  {
   "cell_type": "code",
   "execution_count": 1,
   "metadata": {},
   "outputs": [],
   "source": [
    "from kafka import KafkaConsumer\n",
    "from pyflink.table import EnvironmentSettings, TableEnvironment\n",
    "\n",
    "import ibis\n",
    "import ibis.expr.datatypes as dt\n",
    "import ibis.expr.schema as sch"
   ]
  },
  {
   "cell_type": "code",
   "execution_count": 4,
   "metadata": {},
   "outputs": [
    {
     "name": "stdout",
     "output_type": "stream",
     "text": [
      "(0, ConsumerRecord(topic='transaction', partition=0, offset=90000, timestamp=1705686143809, timestamp_type=0, key=None, value=b'{\"trans_date_trans_time\": \"2012-02-23 00:10:01\", \"cc_num\": 4428780000000000000, \"merchant\": \"fraud_Olson, Becker and Koch\", \"category\": \"gas_transport\", \"amt\": 82.55, \"first\": \"Richard\", \"last\": \"Waters\", \"zipcode\": \"53186\", \"dob\": \"1/2/46\", \"trans_num\": \"dbf31d83eebdfe96d2fa213df2043586\", \"is_fraud\": 0, \"user_id\": 7109464218691269943}', headers=[], checksum=None, serialized_key_size=-1, serialized_value_size=337, serialized_header_size=-1))\n",
      "(1, ConsumerRecord(topic='transaction', partition=0, offset=90001, timestamp=1705686143809, timestamp_type=0, key=None, value=b'{\"trans_date_trans_time\": \"2012-02-23 00:12:05\", \"cc_num\": 6011490000000000, \"merchant\": \"fraud_Schmitt Inc\", \"category\": \"gas_transport\", \"amt\": 77.47, \"first\": \"Gary\", \"last\": \"Barnes\", \"zipcode\": \"71762\", \"dob\": \"6/11/86\", \"trans_num\": \"8e2ab99602a3bc2ca943609b74b64871\", \"is_fraud\": 0, \"user_id\": -3502299427506550148}', headers=[], checksum=None, serialized_key_size=-1, serialized_value_size=322, serialized_header_size=-1))\n",
      "(2, ConsumerRecord(topic='transaction', partition=0, offset=90002, timestamp=1705686143809, timestamp_type=0, key=None, value=b'{\"trans_date_trans_time\": \"2012-02-23 00:14:11\", \"cc_num\": 4826660000000000, \"merchant\": \"fraud_Reichert, Rowe and Mraz\", \"category\": \"shopping_net\", \"amt\": 7.12, \"first\": \"Tami\", \"last\": \"Forbes\", \"zipcode\": \"2630\", \"dob\": \"12/29/63\", \"trans_num\": \"34f0167e9b52e6cd21911de0908a0e5e\", \"is_fraud\": 0, \"user_id\": -6454535437007309845}', headers=[], checksum=None, serialized_key_size=-1, serialized_value_size=332, serialized_header_size=-1))\n",
      "(3, ConsumerRecord(topic='transaction', partition=0, offset=90003, timestamp=1705686143809, timestamp_type=0, key=None, value=b'{\"trans_date_trans_time\": \"2012-02-23 00:14:59\", \"cc_num\": 180081000000000, \"merchant\": \"fraud_Cummerata-Jones\", \"category\": \"gas_transport\", \"amt\": 35.04, \"first\": \"Connie\", \"last\": \"Carroll\", \"zipcode\": \"38740\", \"dob\": \"4/3/55\", \"trans_num\": \"d6011d31f76a3f2d5ce2d11a00ebca65\", \"is_fraud\": 0, \"user_id\": -8316786520951377737}', headers=[], checksum=None, serialized_key_size=-1, serialized_value_size=327, serialized_header_size=-1))\n",
      "(4, ConsumerRecord(topic='transaction', partition=0, offset=90004, timestamp=1705686143810, timestamp_type=0, key=None, value=b'{\"trans_date_trans_time\": \"2012-02-23 00:15:34\", \"cc_num\": 6595970000000000, \"merchant\": \"fraud_Kerluke PLC\", \"category\": \"misc_net\", \"amt\": 8.13, \"first\": \"Gina\", \"last\": \"Gomez\", \"zipcode\": \"7980\", \"dob\": \"9/11/69\", \"trans_num\": \"4a39c258f566dd5fdbb4228521eb7707\", \"is_fraud\": 0, \"user_id\": -860613471587471466}', headers=[], checksum=None, serialized_key_size=-1, serialized_value_size=313, serialized_header_size=-1))\n",
      "(5, ConsumerRecord(topic='transaction', partition=0, offset=90005, timestamp=1705686143810, timestamp_type=0, key=None, value=b'{\"trans_date_trans_time\": \"2012-02-23 00:15:51\", \"cc_num\": 3595190000000000, \"merchant\": \"fraud_Wolf Inc\", \"category\": \"grocery_pos\", \"amt\": 62.61, \"first\": \"Dustin\", \"last\": \"Roberts\", \"zipcode\": \"28314\", \"dob\": \"5/14/93\", \"trans_num\": \"16f89db838b11af419b6662b427ee055\", \"is_fraud\": 0, \"user_id\": -5239169994516374615}', headers=[], checksum=None, serialized_key_size=-1, serialized_value_size=320, serialized_header_size=-1))\n",
      "(6, ConsumerRecord(topic='transaction', partition=0, offset=90006, timestamp=1705686143810, timestamp_type=0, key=None, value=b'{\"trans_date_trans_time\": \"2012-02-23 00:18:41\", \"cc_num\": 3593120000000000, \"merchant\": \"fraud_Bednar Group\", \"category\": \"misc_net\", \"amt\": 2.56, \"first\": \"Laura\", \"last\": \"Casey\", \"zipcode\": \"4680\", \"dob\": \"5/10/59\", \"trans_num\": \"4422961895f4b7b16407e8bc9fa2db92\", \"is_fraud\": 0, \"user_id\": 1985673125454347636}', headers=[], checksum=None, serialized_key_size=-1, serialized_value_size=315, serialized_header_size=-1))\n",
      "(7, ConsumerRecord(topic='transaction', partition=0, offset=90007, timestamp=1705686143810, timestamp_type=0, key=None, value=b'{\"trans_date_trans_time\": \"2012-02-23 00:20:00\", \"cc_num\": 213125000000000, \"merchant\": \"fraud_Robel, Cummerata and Prosacco\", \"category\": \"gas_transport\", \"amt\": 53.38, \"first\": \"Steven\", \"last\": \"Arnold\", \"zipcode\": \"14711\", \"dob\": \"6/4/62\", \"trans_num\": \"95bb7f500a65d992e0cffe0e15f25d0f\", \"is_fraud\": 0, \"user_id\": -6991872244065234644}', headers=[], checksum=None, serialized_key_size=-1, serialized_value_size=340, serialized_header_size=-1))\n",
      "(8, ConsumerRecord(topic='transaction', partition=0, offset=90008, timestamp=1705686143810, timestamp_type=0, key=None, value=b'{\"trans_date_trans_time\": \"2012-02-23 00:23:48\", \"cc_num\": 581293000000, \"merchant\": \"fraud_Kutch LLC\", \"category\": \"gas_transport\", \"amt\": 67.75, \"first\": \"William\", \"last\": \"Thomas\", \"zipcode\": \"73754\", \"dob\": \"10/6/89\", \"trans_num\": \"3dcf05eb707b832993196ea952be2810\", \"is_fraud\": 0, \"user_id\": -1884639543805280081}', headers=[], checksum=None, serialized_key_size=-1, serialized_value_size=319, serialized_header_size=-1))\n",
      "(9, ConsumerRecord(topic='transaction', partition=0, offset=90009, timestamp=1705686143810, timestamp_type=0, key=None, value=b'{\"trans_date_trans_time\": \"2012-02-23 00:24:48\", \"cc_num\": 375534000000000, \"merchant\": \"fraud_Brekke and Sons\", \"category\": \"gas_transport\", \"amt\": 74.34, \"first\": \"Tyler\", \"last\": \"Garcia\", \"zipcode\": \"24433\", \"dob\": \"3/28/86\", \"trans_num\": \"fbc8b207783d70a801c2af8124c12221\", \"is_fraud\": 0, \"user_id\": -6916285106323666914}', headers=[], checksum=None, serialized_key_size=-1, serialized_value_size=326, serialized_header_size=-1))\n"
     ]
    }
   ],
   "source": [
    "consumer = KafkaConsumer(\"transaction\")\n",
    "for msg in zip(range(10), consumer):\n",
    "    print(msg)"
   ]
  },
  {
   "cell_type": "code",
   "execution_count": 4,
   "metadata": {},
   "outputs": [
    {
     "data": {
      "text/plain": [
       "<pyflink.table.table_result.TableResult at 0x7f07e58e0a00>"
      ]
     },
     "execution_count": 4,
     "metadata": {},
     "output_type": "execute_result"
    }
   ],
   "source": [
    "local = True\n",
    "\n",
    "# 1. create a TableEnvironment\n",
    "env_settings = EnvironmentSettings.in_streaming_mode()\n",
    "table_env = TableEnvironment.create(env_settings)\n",
    "# write all the data to one file\n",
    "table_env.get_config().set(\"parallelism.default\", \"1\")\n",
    "\n",
    "# The `flink` backend does not create `TableEnvironment` objects; pass\n",
    "# the `TableEnvironment` object created above to `ibis.flink.connect`.\n",
    "connection = ibis.flink.connect(table_env)\n",
    "\n",
    "# Flink’s streaming connectors aren't part of the binary distribution.\n",
    "# Link the Kafka connector for cluster execution by adding a JAR file.\n",
    "connection._exec_sql(\"ADD JAR '../../flink-sql-connector-kafka-3.0.2-1.18.jar'\")"
   ]
  },
  {
   "cell_type": "code",
   "execution_count": 5,
   "metadata": {},
   "outputs": [],
   "source": [
    "# 2. Create source table\n",
    "source_topic_name = \"transaction\"\n",
    "kafka_offset = \"earliest-offset\"\n",
    "source_schema = sch.Schema(\n",
    "    {\n",
    "        \"user_id\": dt.int64,\n",
    "        \"trans_date_trans_time\": dt.timestamp(scale=3),\n",
    "        \"cc_num\": dt.int64,\n",
    "        \"amt\": dt.float64,\n",
    "        \"trans_num\": dt.str,\n",
    "        \"merchant\": dt.str,\n",
    "        \"category\": dt.str ,      \n",
    "        \"is_fraud\": dt.int32,\n",
    "        \"first\": dt.str,\n",
    "        \"last\": dt.str,\n",
    "        \"dob\": dt.str,\n",
    "        \"zipcode\": dt.str,\n",
    "    }\n",
    ")\n",
    "\n",
    "# Configure the source table with Kafka connector properties.\n",
    "source_configs = {\n",
    "    \"connector\": \"kafka\",\n",
    "    \"topic\": source_topic_name,\n",
    "    \"properties.bootstrap.servers\": \"localhost:9092\" if local else \"kafka:29092\",\n",
    "    \"properties.group.id\": \"test\",\n",
    "    \"scan.startup.mode\": kafka_offset,\n",
    "    \"format\": \"json\",\n",
    "}\n",
    "\n",
    "# Create the source table using the defined schema, Kafka connector properties,\n",
    "# and set watermarking for real-time processing with a 15-second delay.\n",
    "source_table = connection.create_table(\n",
    "    source_topic_name,\n",
    "    schema=source_schema,\n",
    "    tbl_properties=source_configs,\n",
    "    watermark=ibis.watermark(\n",
    "        time_col=\"trans_date_trans_time\", allowed_delay=ibis.interval(seconds=15)\n",
    "    ),\n",
    ")\n"
   ]
  },
  {
   "cell_type": "code",
   "execution_count": 6,
   "metadata": {},
   "outputs": [
    {
     "data": {
      "text/html": [
       "<pre style=\"white-space:pre;overflow-x:auto;line-height:normal;font-family:Menlo,'DejaVu Sans Mono',consolas,'Courier New',monospace\">DatabaseTable: transaction\n",
       "  user_id               int64\n",
       "  trans_date_trans_time timestamp(3)\n",
       "  cc_num                int64\n",
       "  amt                   float64\n",
       "  trans_num             string\n",
       "  merchant              string\n",
       "  category              string\n",
       "  is_fraud              int32\n",
       "  first                 string\n",
       "  last                  string\n",
       "  dob                   string\n",
       "  zipcode               string\n",
       "</pre>\n"
      ],
      "text/plain": [
       "DatabaseTable: transaction\n",
       "  user_id               int64\n",
       "  trans_date_trans_time timestamp(3)\n",
       "  cc_num                int64\n",
       "  amt                   float64\n",
       "  trans_num             string\n",
       "  merchant              string\n",
       "  category              string\n",
       "  is_fraud              int32\n",
       "  first                 string\n",
       "  last                  string\n",
       "  dob                   string\n",
       "  zipcode               string"
      ]
     },
     "execution_count": 6,
     "metadata": {},
     "output_type": "execute_result"
    }
   ],
   "source": [
    "source_table"
   ]
  },
  {
   "cell_type": "code",
   "execution_count": 7,
   "metadata": {},
   "outputs": [],
   "source": [
    "# 3. Feature Generation using Flink backend\n",
    "# Define a window specification for aggregating maximum transaction amount over the last 5 minutes.\n",
    "# The aggregation is partitioned by user_id and ordered by trans_date_trans_time.\n",
    "# The window range is set to the interval from 5 minutes ago to the current time.\n",
    "user_trans_amt_last_360m_agg = source_table[\n",
    "    source_table.user_id,\n",
    "    # Calculate the maximum transaction amount over the specified window.\n",
    "    source_table.amt.max().over(\n",
    "        ibis.window(\n",
    "            group_by=source_table.user_id,\n",
    "            order_by=source_table.trans_date_trans_time,\n",
    "            range=(-ibis.interval(minutes=360), 0),\n",
    "        )\n",
    "    ).name(\"user_max_trans_amt_last_360min\"),\n",
    "    # Calculate the min transaction amount over the specified window.\n",
    "    source_table.amt.min().over(\n",
    "        ibis.window(\n",
    "            group_by=source_table.user_id,\n",
    "            order_by=source_table.trans_date_trans_time,\n",
    "            range=(-ibis.interval(minutes=360), 0),\n",
    "        )\n",
    "    ).name(\"user_min_trans_amt_last_360min\"),\n",
    "    # Calculate the average transaction amount over the specified window.\n",
    "    source_table.amt.mean().over(\n",
    "        ibis.window(\n",
    "            group_by=source_table.user_id,\n",
    "            order_by=source_table.trans_date_trans_time,\n",
    "            range=(-ibis.interval(minutes=360), 0),\n",
    "        )\n",
    "    ).name(\"user_mean_trans_amt_last_360min\"),\n",
    "    # Calculate the average transaction amount over the specified window.\n",
    "    source_table.amt.count().over(\n",
    "        ibis.window(\n",
    "            group_by=source_table.user_id,\n",
    "            order_by=source_table.trans_date_trans_time,\n",
    "            range=(-ibis.interval(minutes=360), 0),\n",
    "        )\n",
    "    ).name(\"user_trans_count_last_360min\"),\n",
    "    source_table.trans_date_trans_time\n",
    "]"
   ]
  },
  {
   "cell_type": "code",
   "execution_count": 11,
   "metadata": {},
   "outputs": [
    {
     "data": {
      "text/html": [
       "<pre style=\"white-space:pre;overflow-x:auto;line-height:normal;font-family:Menlo,'DejaVu Sans Mono',consolas,'Courier New',monospace\">DatabaseTable: user_trans_amt_last_360min\n",
       "  user_id                         int64\n",
       "  user_max_trans_amt_last_360min  float64\n",
       "  user_min_trans_amt_last_360min  float64\n",
       "  user_mean_trans_amt_last_360min float64\n",
       "  user_trans_count_last_360min    int64\n",
       "  trans_date_trans_time           timestamp(3)\n",
       "</pre>\n"
      ],
      "text/plain": [
       "DatabaseTable: user_trans_amt_last_360min\n",
       "  user_id                         int64\n",
       "  user_max_trans_amt_last_360min  float64\n",
       "  user_min_trans_amt_last_360min  float64\n",
       "  user_mean_trans_amt_last_360min float64\n",
       "  user_trans_count_last_360min    int64\n",
       "  trans_date_trans_time           timestamp(3)"
      ]
     },
     "execution_count": 11,
     "metadata": {},
     "output_type": "execute_result"
    }
   ],
   "source": [
    "# 4. Creat Sink\n",
    "sink_topic_name = \"user_trans_amt_last_360min\"\n",
    "sink_schema = sch.Schema(\n",
    "    {\n",
    "        \"user_id\": dt.int64,\n",
    "        \"user_max_trans_amt_last_360min\": dt.float64,\n",
    "        \"user_min_trans_amt_last_360min\": dt.float64,\n",
    "        \"user_mean_trans_amt_last_360min\": dt.float64,\n",
    "        \"user_trans_count_last_360min\": dt.int64,\n",
    "        \"trans_date_trans_time\": dt.timestamp(scale=3), # used for future temporal join\n",
    "    }\n",
    ")\n",
    "\n",
    "# Configure the sink table with Kafka connector properties for writing results.\n",
    "sink_configs = {\n",
    "    \"connector\": \"kafka\",\n",
    "    \"topic\": sink_topic_name,\n",
    "    \"properties.bootstrap.servers\": \"localhost:9092\" if local else \"kafka:29092\",\n",
    "    \"format\": \"debezium-json\", # \"debezium-json\" is needed for future temporal join.\n",
    "}\n",
    "\n",
    "sink_table = connection.create_table(\n",
    "    sink_topic_name, schema=sink_schema, tbl_properties=sink_configs, overwrite=True\n",
    ")\n",
    "sink_table"
   ]
  },
  {
   "cell_type": "code",
   "execution_count": 12,
   "metadata": {},
   "outputs": [
    {
     "data": {
      "text/plain": [
       "<pyflink.table.table_result.TableResult at 0x7f07dc5d3070>"
      ]
     },
     "execution_count": 12,
     "metadata": {},
     "output_type": "execute_result"
    }
   ],
   "source": [
    "# 5. Emit query result to sink table\n",
    "connection.insert(sink_topic_name, user_trans_amt_last_360m_agg)\n",
    "\n"
   ]
  },
  {
   "cell_type": "code",
   "execution_count": 13,
   "metadata": {},
   "outputs": [
    {
     "name": "stdout",
     "output_type": "stream",
     "text": [
      "ConsumerRecord(topic='user_trans_amt_last_360min', partition=0, offset=498016, timestamp=1705623329919, timestamp_type=0, key=None, value=b'{\"before\":null,\"after\":{\"user_id\":7584046863221534119,\"user_max_trans_amt_last_360min\":9.28,\"user_min_trans_amt_last_360min\":9.28,\"user_mean_trans_amt_last_360min\":9.28,\"user_trans_count_last_360min\":1,\"trans_date_trans_time\":\"2012-03-05 10:02:42\"},\"op\":\"c\"}', headers=[], checksum=None, serialized_key_size=-1, serialized_value_size=258, serialized_header_size=-1)\n",
      "ConsumerRecord(topic='user_trans_amt_last_360min', partition=0, offset=498017, timestamp=1705623329919, timestamp_type=0, key=None, value=b'{\"before\":null,\"after\":{\"user_id\":-227411383219759975,\"user_max_trans_amt_last_360min\":238.98,\"user_min_trans_amt_last_360min\":129.62,\"user_mean_trans_amt_last_360min\":184.3,\"user_trans_count_last_360min\":2,\"trans_date_trans_time\":\"2012-03-05 10:05:20\"},\"op\":\"c\"}', headers=[], checksum=None, serialized_key_size=-1, serialized_value_size=263, serialized_header_size=-1)\n",
      "ConsumerRecord(topic='user_trans_amt_last_360min', partition=0, offset=498018, timestamp=1705623329919, timestamp_type=0, key=None, value=b'{\"before\":null,\"after\":{\"user_id\":5540113790583634747,\"user_max_trans_amt_last_360min\":321.13,\"user_min_trans_amt_last_360min\":85.0,\"user_mean_trans_amt_last_360min\":175.16666666666663,\"user_trans_count_last_360min\":3,\"trans_date_trans_time\":\"2012-03-05 10:06:44\"},\"op\":\"c\"}', headers=[], checksum=None, serialized_key_size=-1, serialized_value_size=274, serialized_header_size=-1)\n",
      "ConsumerRecord(topic='user_trans_amt_last_360min', partition=0, offset=498019, timestamp=1705623329919, timestamp_type=0, key=None, value=b'{\"before\":null,\"after\":{\"user_id\":5473941431289561122,\"user_max_trans_amt_last_360min\":65.1,\"user_min_trans_amt_last_360min\":65.1,\"user_mean_trans_amt_last_360min\":65.1,\"user_trans_count_last_360min\":1,\"trans_date_trans_time\":\"2012-03-05 10:07:04\"},\"op\":\"c\"}', headers=[], checksum=None, serialized_key_size=-1, serialized_value_size=258, serialized_header_size=-1)\n",
      "ConsumerRecord(topic='user_trans_amt_last_360min', partition=0, offset=498020, timestamp=1705623329919, timestamp_type=0, key=None, value=b'{\"before\":null,\"after\":{\"user_id\":-8002661054777632739,\"user_max_trans_amt_last_360min\":100.47,\"user_min_trans_amt_last_360min\":100.47,\"user_mean_trans_amt_last_360min\":100.47,\"user_trans_count_last_360min\":1,\"trans_date_trans_time\":\"2012-03-05 10:08:10\"},\"op\":\"c\"}', headers=[], checksum=None, serialized_key_size=-1, serialized_value_size=265, serialized_header_size=-1)\n",
      "ConsumerRecord(topic='user_trans_amt_last_360min', partition=0, offset=498021, timestamp=1705623329919, timestamp_type=0, key=None, value=b'{\"before\":null,\"after\":{\"user_id\":4533977973587865842,\"user_max_trans_amt_last_360min\":32.6,\"user_min_trans_amt_last_360min\":4.37,\"user_mean_trans_amt_last_360min\":18.484999999999985,\"user_trans_count_last_360min\":2,\"trans_date_trans_time\":\"2012-03-05 10:09:37\"},\"op\":\"c\"}', headers=[], checksum=None, serialized_key_size=-1, serialized_value_size=272, serialized_header_size=-1)\n",
      "ConsumerRecord(topic='user_trans_amt_last_360min', partition=0, offset=498022, timestamp=1705623329919, timestamp_type=0, key=None, value=b'{\"before\":null,\"after\":{\"user_id\":3481231273808269436,\"user_max_trans_amt_last_360min\":151.31,\"user_min_trans_amt_last_360min\":110.31,\"user_mean_trans_amt_last_360min\":130.81,\"user_trans_count_last_360min\":2,\"trans_date_trans_time\":\"2012-03-05 10:09:46\"},\"op\":\"c\"}', headers=[], checksum=None, serialized_key_size=-1, serialized_value_size=264, serialized_header_size=-1)\n",
      "ConsumerRecord(topic='user_trans_amt_last_360min', partition=0, offset=498023, timestamp=1705623329919, timestamp_type=0, key=None, value=b'{\"before\":null,\"after\":{\"user_id\":-8934990280846121883,\"user_max_trans_amt_last_360min\":59.72,\"user_min_trans_amt_last_360min\":59.72,\"user_mean_trans_amt_last_360min\":59.72,\"user_trans_count_last_360min\":1,\"trans_date_trans_time\":\"2012-03-05 10:10:13\"},\"op\":\"c\"}', headers=[], checksum=None, serialized_key_size=-1, serialized_value_size=262, serialized_header_size=-1)\n",
      "ConsumerRecord(topic='user_trans_amt_last_360min', partition=0, offset=498024, timestamp=1705623329919, timestamp_type=0, key=None, value=b'{\"before\":null,\"after\":{\"user_id\":-4445344990296535100,\"user_max_trans_amt_last_360min\":74.49,\"user_min_trans_amt_last_360min\":60.65,\"user_mean_trans_amt_last_360min\":67.57,\"user_trans_count_last_360min\":2,\"trans_date_trans_time\":\"2012-03-05 10:10:49\"},\"op\":\"c\"}', headers=[], checksum=None, serialized_key_size=-1, serialized_value_size=262, serialized_header_size=-1)\n",
      "ConsumerRecord(topic='user_trans_amt_last_360min', partition=0, offset=498025, timestamp=1705623329919, timestamp_type=0, key=None, value=b'{\"before\":null,\"after\":{\"user_id\":1953379549727975020,\"user_max_trans_amt_last_360min\":55.26,\"user_min_trans_amt_last_360min\":55.26,\"user_mean_trans_amt_last_360min\":55.26,\"user_trans_count_last_360min\":1,\"trans_date_trans_time\":\"2012-03-05 10:11:32\"},\"op\":\"c\"}', headers=[], checksum=None, serialized_key_size=-1, serialized_value_size=261, serialized_header_size=-1)\n"
     ]
    }
   ],
   "source": [
    "if local:\n",
    "    # Use the Kafka Python client to stream records from the sink topic.\n",
    "    # Otherwise, the mini cluster will shut down upon script completion.\n",
    "    consumer = KafkaConsumer(sink_topic_name)\n",
    "    for _, msg in zip(range(10), consumer):\n",
    "        print(msg)"
   ]
  }
 ],
 "metadata": {
  "kernelspec": {
   "display_name": "Python 3 (ipykernel)",
   "language": "python",
   "name": "python3"
  },
  "language_info": {
   "codemirror_mode": {
    "name": "ipython",
    "version": 3
   },
   "file_extension": ".py",
   "mimetype": "text/x-python",
   "name": "python",
   "nbconvert_exporter": "python",
   "pygments_lexer": "ipython3",
   "version": "3.10.13"
  },
  "orig_nbformat": 4
 },
 "nbformat": 4,
 "nbformat_minor": 2
}
