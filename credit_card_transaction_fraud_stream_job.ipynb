{
 "cells": [
  {
   "cell_type": "code",
   "execution_count": 2,
   "metadata": {},
   "outputs": [],
   "source": [
    "import sys\n",
    "\n",
    "import ibis\n",
    "import ibis.expr.datatypes as dt\n",
    "import ibis.expr.schema as sch\n",
    "from kafka import KafkaConsumer\n",
    "from pyflink.table import EnvironmentSettings, TableEnvironment\n",
    "import pandas as pd\n",
    "import json"
   ]
  },
  {
   "cell_type": "code",
   "execution_count": 3,
   "metadata": {},
   "outputs": [],
   "source": [
    "rows = []\n",
    "consumer = KafkaConsumer(\"transaction\")\n",
    "for _, msg in zip(range(10), consumer):\n",
    "    rows.append(msg)"
   ]
  },
  {
   "cell_type": "code",
   "execution_count": 4,
   "metadata": {},
   "outputs": [
    {
     "data": {
      "text/plain": [
       "b'{\"trans_date_trans_time\": \"2024-01-04 00:04:17.624\", \"cc_num\": 4502540000000000000, \"merchant\": \"fraud_Dare-Gibson\", \"category\": \"health_fitness\", \"amt\": 8.95, \"trans_num\": \"61b17bfb4709a5ec8b7c249841178db4\"}'"
      ]
     },
     "execution_count": 4,
     "metadata": {},
     "output_type": "execute_result"
    }
   ],
   "source": [
    "rows[0].value"
   ]
  },
  {
   "cell_type": "code",
   "execution_count": 5,
   "metadata": {},
   "outputs": [
    {
     "data": {
      "text/html": [
       "<div>\n",
       "<style scoped>\n",
       "    .dataframe tbody tr th:only-of-type {\n",
       "        vertical-align: middle;\n",
       "    }\n",
       "\n",
       "    .dataframe tbody tr th {\n",
       "        vertical-align: top;\n",
       "    }\n",
       "\n",
       "    .dataframe thead th {\n",
       "        text-align: right;\n",
       "    }\n",
       "</style>\n",
       "<table border=\"1\" class=\"dataframe\">\n",
       "  <thead>\n",
       "    <tr style=\"text-align: right;\">\n",
       "      <th></th>\n",
       "      <th>trans_date_trans_time</th>\n",
       "      <th>cc_num</th>\n",
       "      <th>merchant</th>\n",
       "      <th>category</th>\n",
       "      <th>amt</th>\n",
       "      <th>trans_num</th>\n",
       "    </tr>\n",
       "  </thead>\n",
       "  <tbody>\n",
       "    <tr>\n",
       "      <th>0</th>\n",
       "      <td>2024-01-04 00:04:17.624</td>\n",
       "      <td>4502540000000000000</td>\n",
       "      <td>fraud_Dare-Gibson</td>\n",
       "      <td>health_fitness</td>\n",
       "      <td>8.95</td>\n",
       "      <td>61b17bfb4709a5ec8b7c249841178db4</td>\n",
       "    </tr>\n",
       "    <tr>\n",
       "      <th>1</th>\n",
       "      <td>2024-01-04 00:04:17.724</td>\n",
       "      <td>213157000000000</td>\n",
       "      <td>fraud_Terry Ltd</td>\n",
       "      <td>home</td>\n",
       "      <td>185.75</td>\n",
       "      <td>4af83d0a555949578fb4e53e9d035dad</td>\n",
       "    </tr>\n",
       "    <tr>\n",
       "      <th>2</th>\n",
       "      <td>2024-01-04 00:04:17.824</td>\n",
       "      <td>4890420000000000000</td>\n",
       "      <td>fraud_Yost-Rogahn</td>\n",
       "      <td>personal_care</td>\n",
       "      <td>121.79</td>\n",
       "      <td>49ed69100216291903688fb12f8ada70</td>\n",
       "    </tr>\n",
       "    <tr>\n",
       "      <th>3</th>\n",
       "      <td>2024-01-04 00:04:17.924</td>\n",
       "      <td>560881000000</td>\n",
       "      <td>fraud_Hills-Boyer</td>\n",
       "      <td>personal_care</td>\n",
       "      <td>12.42</td>\n",
       "      <td>2e27dbc4bd6571dd1e6ed3e684d5b5e9</td>\n",
       "    </tr>\n",
       "    <tr>\n",
       "      <th>4</th>\n",
       "      <td>2024-01-04 00:04:18.025</td>\n",
       "      <td>4247920000000</td>\n",
       "      <td>fraud_Boyer-Haley</td>\n",
       "      <td>travel</td>\n",
       "      <td>163.07</td>\n",
       "      <td>cf311ad4abb17a11e0ec12d056bf40d2</td>\n",
       "    </tr>\n",
       "    <tr>\n",
       "      <th>5</th>\n",
       "      <td>2024-01-04 00:04:18.125</td>\n",
       "      <td>4311370000000000000</td>\n",
       "      <td>fraud_Nicolas, Hills and McGlynn</td>\n",
       "      <td>entertainment</td>\n",
       "      <td>34.35</td>\n",
       "      <td>8e04e547a918156f6a53ecb65c149a90</td>\n",
       "    </tr>\n",
       "    <tr>\n",
       "      <th>6</th>\n",
       "      <td>2024-01-04 00:04:18.226</td>\n",
       "      <td>36078100000000</td>\n",
       "      <td>fraud_Kilback, Nitzsche and Leffler</td>\n",
       "      <td>travel</td>\n",
       "      <td>1.88</td>\n",
       "      <td>61866906ec3f4862a35f58a0b407695c</td>\n",
       "    </tr>\n",
       "    <tr>\n",
       "      <th>7</th>\n",
       "      <td>2024-01-04 00:04:18.326</td>\n",
       "      <td>3551220000000000</td>\n",
       "      <td>fraud_Lowe, Dietrich and Erdman</td>\n",
       "      <td>kids_pets</td>\n",
       "      <td>42.93</td>\n",
       "      <td>249e46073cbdae18147583fcc7da885d</td>\n",
       "    </tr>\n",
       "    <tr>\n",
       "      <th>8</th>\n",
       "      <td>2024-01-04 00:04:18.427</td>\n",
       "      <td>3598900000000000</td>\n",
       "      <td>fraud_Jast and Sons</td>\n",
       "      <td>food_dining</td>\n",
       "      <td>93.33</td>\n",
       "      <td>c9e2c9283caa88b895716378e0b788f9</td>\n",
       "    </tr>\n",
       "    <tr>\n",
       "      <th>9</th>\n",
       "      <td>2024-01-04 00:04:18.528</td>\n",
       "      <td>4265780000000000</td>\n",
       "      <td>fraud_Schiller Ltd</td>\n",
       "      <td>personal_care</td>\n",
       "      <td>8.28</td>\n",
       "      <td>1fb6438a13c4cba1f9a5294666e6e938</td>\n",
       "    </tr>\n",
       "  </tbody>\n",
       "</table>\n",
       "</div>"
      ],
      "text/plain": [
       "     trans_date_trans_time               cc_num  \\\n",
       "0  2024-01-04 00:04:17.624  4502540000000000000   \n",
       "1  2024-01-04 00:04:17.724      213157000000000   \n",
       "2  2024-01-04 00:04:17.824  4890420000000000000   \n",
       "3  2024-01-04 00:04:17.924         560881000000   \n",
       "4  2024-01-04 00:04:18.025        4247920000000   \n",
       "5  2024-01-04 00:04:18.125  4311370000000000000   \n",
       "6  2024-01-04 00:04:18.226       36078100000000   \n",
       "7  2024-01-04 00:04:18.326     3551220000000000   \n",
       "8  2024-01-04 00:04:18.427     3598900000000000   \n",
       "9  2024-01-04 00:04:18.528     4265780000000000   \n",
       "\n",
       "                              merchant        category     amt  \\\n",
       "0                    fraud_Dare-Gibson  health_fitness    8.95   \n",
       "1                      fraud_Terry Ltd            home  185.75   \n",
       "2                    fraud_Yost-Rogahn   personal_care  121.79   \n",
       "3                    fraud_Hills-Boyer   personal_care   12.42   \n",
       "4                    fraud_Boyer-Haley          travel  163.07   \n",
       "5     fraud_Nicolas, Hills and McGlynn   entertainment   34.35   \n",
       "6  fraud_Kilback, Nitzsche and Leffler          travel    1.88   \n",
       "7      fraud_Lowe, Dietrich and Erdman       kids_pets   42.93   \n",
       "8                  fraud_Jast and Sons     food_dining   93.33   \n",
       "9                   fraud_Schiller Ltd   personal_care    8.28   \n",
       "\n",
       "                          trans_num  \n",
       "0  61b17bfb4709a5ec8b7c249841178db4  \n",
       "1  4af83d0a555949578fb4e53e9d035dad  \n",
       "2  49ed69100216291903688fb12f8ada70  \n",
       "3  2e27dbc4bd6571dd1e6ed3e684d5b5e9  \n",
       "4  cf311ad4abb17a11e0ec12d056bf40d2  \n",
       "5  8e04e547a918156f6a53ecb65c149a90  \n",
       "6  61866906ec3f4862a35f58a0b407695c  \n",
       "7  249e46073cbdae18147583fcc7da885d  \n",
       "8  c9e2c9283caa88b895716378e0b788f9  \n",
       "9  1fb6438a13c4cba1f9a5294666e6e938  "
      ]
     },
     "execution_count": 5,
     "metadata": {},
     "output_type": "execute_result"
    }
   ],
   "source": [
    "import json\n",
    "\n",
    "import pandas as pd\n",
    "\n",
    "df = pd.DataFrame([json.loads(row.value) for row in rows])\n",
    "\n",
    "df"
   ]
  },
  {
   "cell_type": "code",
   "execution_count": 6,
   "metadata": {},
   "outputs": [
    {
     "name": "stdout",
     "output_type": "stream",
     "text": [
      "<class 'pandas.core.frame.DataFrame'>\n",
      "RangeIndex: 10 entries, 0 to 9\n",
      "Data columns (total 6 columns):\n",
      " #   Column                 Non-Null Count  Dtype  \n",
      "---  ------                 --------------  -----  \n",
      " 0   trans_date_trans_time  10 non-null     object \n",
      " 1   cc_num                 10 non-null     int64  \n",
      " 2   merchant               10 non-null     object \n",
      " 3   category               10 non-null     object \n",
      " 4   amt                    10 non-null     float64\n",
      " 5   trans_num              10 non-null     object \n",
      "dtypes: float64(1), int64(1), object(4)\n",
      "memory usage: 608.0+ bytes\n"
     ]
    }
   ],
   "source": [
    "df.info()"
   ]
  },
  {
   "cell_type": "code",
   "execution_count": 7,
   "metadata": {},
   "outputs": [
    {
     "name": "stdout",
     "output_type": "stream",
     "text": [
      "(0, ConsumerRecord(topic='transaction', partition=0, offset=8614, timestamp=1704326665663, timestamp_type=0, key=None, value=b'{\"trans_date_trans_time\": \"2024-01-04 00:04:25.662\", \"cc_num\": 343669000000000, \"merchant\": \"fraud_Ullrich Ltd\", \"category\": \"kids_pets\", \"amt\": 111.61, \"trans_num\": \"ea40f8a01ad8708677dc404fce2e4c46\"}', headers=[], checksum=None, serialized_key_size=-1, serialized_value_size=201, serialized_header_size=-1))\n",
      "(1, ConsumerRecord(topic='transaction', partition=0, offset=8615, timestamp=1704326665763, timestamp_type=0, key=None, value=b'{\"trans_date_trans_time\": \"2024-01-04 00:04:25.763\", \"cc_num\": 6534630000000000, \"merchant\": \"fraud_Zemlak, Tillman and Cremin\", \"category\": \"personal_care\", \"amt\": 4.62, \"trans_num\": \"92807a71548f70b062ab4a88d2fdb3f1\"}', headers=[], checksum=None, serialized_key_size=-1, serialized_value_size=219, serialized_header_size=-1))\n",
      "(2, ConsumerRecord(topic='transaction', partition=0, offset=8616, timestamp=1704326665864, timestamp_type=0, key=None, value=b'{\"trans_date_trans_time\": \"2024-01-04 00:04:25.863\", \"cc_num\": 4277230000000000, \"merchant\": \"fraud_Altenwerth-Kilback\", \"category\": \"home\", \"amt\": 60.05, \"trans_num\": \"04fc26bda45db5665003d58fa7190d79\"}', headers=[], checksum=None, serialized_key_size=-1, serialized_value_size=203, serialized_header_size=-1))\n",
      "(3, ConsumerRecord(topic='transaction', partition=0, offset=8617, timestamp=1704326665964, timestamp_type=0, key=None, value=b'{\"trans_date_trans_time\": \"2024-01-04 00:04:25.964\", \"cc_num\": 676102000000, \"merchant\": \"fraud_Fritsch and Sons\", \"category\": \"health_fitness\", \"amt\": 24.19, \"trans_num\": \"a12573a502e18ab35184a8d852356d44\"}', headers=[], checksum=None, serialized_key_size=-1, serialized_value_size=207, serialized_header_size=-1))\n",
      "(4, ConsumerRecord(topic='transaction', partition=0, offset=8618, timestamp=1704326666064, timestamp_type=0, key=None, value=b'{\"trans_date_trans_time\": \"2024-01-04 00:04:26.064\", \"cc_num\": 180065000000000, \"merchant\": \"fraud_Schaefer, Fay and Hilll\", \"category\": \"entertainment\", \"amt\": 32.71, \"trans_num\": \"d821098ee9eafc71db4837fd482f7e3e\"}', headers=[], checksum=None, serialized_key_size=-1, serialized_value_size=216, serialized_header_size=-1))\n",
      "(5, ConsumerRecord(topic='transaction', partition=0, offset=8619, timestamp=1704326666165, timestamp_type=0, key=None, value=b'{\"trans_date_trans_time\": \"2024-01-04 00:04:26.165\", \"cc_num\": 6534630000000000, \"merchant\": \"fraud_Abbott-Rogahn\", \"category\": \"entertainment\", \"amt\": 9.4, \"trans_num\": \"22bf952dcba94431ea4e3ac25f2618db\"}', headers=[], checksum=None, serialized_key_size=-1, serialized_value_size=205, serialized_header_size=-1))\n",
      "(6, ConsumerRecord(topic='transaction', partition=0, offset=8620, timestamp=1704326666265, timestamp_type=0, key=None, value=b'{\"trans_date_trans_time\": \"2024-01-04 00:04:26.265\", \"cc_num\": 30044300000000, \"merchant\": \"fraud_McCullough, Hudson and Schuster\", \"category\": \"food_dining\", \"amt\": 41.55, \"trans_num\": \"0fa51177a7fdf3605ae4ca05b2110338\"}', headers=[], checksum=None, serialized_key_size=-1, serialized_value_size=221, serialized_header_size=-1))\n",
      "(7, ConsumerRecord(topic='transaction', partition=0, offset=8621, timestamp=1704326666366, timestamp_type=0, key=None, value=b'{\"trans_date_trans_time\": \"2024-01-04 00:04:26.366\", \"cc_num\": 4476840000000, \"merchant\": \"fraud_Friesen Inc\", \"category\": \"shopping_pos\", \"amt\": 141.01, \"trans_num\": \"e44b480819ea89c0d16a548d6a88a8c0\"}', headers=[], checksum=None, serialized_key_size=-1, serialized_value_size=202, serialized_header_size=-1))\n",
      "(8, ConsumerRecord(topic='transaction', partition=0, offset=8622, timestamp=1704326666466, timestamp_type=0, key=None, value=b'{\"trans_date_trans_time\": \"2024-01-04 00:04:26.466\", \"cc_num\": 4500000000000, \"merchant\": \"fraud_Gottlieb-Hansen\", \"category\": \"personal_care\", \"amt\": 9.62, \"trans_num\": \"55cc6af6e47ddf0d5cbe72c8f6c45fc7\"}', headers=[], checksum=None, serialized_key_size=-1, serialized_value_size=205, serialized_header_size=-1))\n",
      "(9, ConsumerRecord(topic='transaction', partition=0, offset=8623, timestamp=1704326666566, timestamp_type=0, key=None, value=b'{\"trans_date_trans_time\": \"2024-01-04 00:04:26.566\", \"cc_num\": 3543300000000000, \"merchant\": \"fraud_Predovic Inc\", \"category\": \"shopping_net\", \"amt\": 8.92, \"trans_num\": \"695eeef73b43312d5842642ec6ee759d\"}', headers=[], checksum=None, serialized_key_size=-1, serialized_value_size=204, serialized_header_size=-1))\n"
     ]
    }
   ],
   "source": [
    "consumer = KafkaConsumer(\"transaction\")\n",
    "for msg in zip(range(10), consumer):\n",
    "    print(msg)"
   ]
  },
  {
   "cell_type": "code",
   "execution_count": 8,
   "metadata": {},
   "outputs": [
    {
     "data": {
      "text/plain": [
       "<pyflink.table.table_result.TableResult at 0x7f1f2c9868c0>"
      ]
     },
     "execution_count": 8,
     "metadata": {},
     "output_type": "execute_result"
    }
   ],
   "source": [
    "local = True\n",
    "\n",
    "# 1. create a TableEnvironment\n",
    "env_settings = EnvironmentSettings.in_streaming_mode()\n",
    "table_env = TableEnvironment.create(env_settings)\n",
    "# write all the data to one file\n",
    "table_env.get_config().set(\"parallelism.default\", \"1\")\n",
    "\n",
    "# The `flink` backend does not create `TableEnvironment` objects; pass\n",
    "# the `TableEnvironment` object created above to `ibis.flink.connect`.\n",
    "connection = ibis.flink.connect(table_env)\n",
    "\n",
    "# Flink’s streaming connectors aren't part of the binary distribution.\n",
    "# Link the Kafka connector for cluster execution by adding a JAR file.\n",
    "connection._exec_sql(\"ADD JAR 'flink-sql-connector-kafka-3.0.2-1.18.jar'\")"
   ]
  },
  {
   "cell_type": "code",
   "execution_count": 9,
   "metadata": {},
   "outputs": [],
   "source": [
    "source_schema = sch.Schema(\n",
    "    {\n",
    "        'trans_date_trans_time': dt.timestamp(scale=3),\n",
    "        'cc_num': dt.int64,\n",
    "        'amt': dt.float64,\n",
    "        'merchant': dt.str,\n",
    "        'category': dt.str,   \n",
    "        # 'first': dt.str,\n",
    "        # 'last': dt.str,\n",
    "        # 'gender': dt.str,\n",
    "        # 'street': dt.str,\n",
    "        # 'city': dt.str,\n",
    "        # 'state': dt.str,\n",
    "        # 'zipcode': dt.str,\n",
    "        # 'latitude': dt.float64,\n",
    "        # 'longitude': dt.float64,\n",
    "        # 'city_pop': dt.int32,\n",
    "        # 'job': dt.str,\n",
    "        # 'dob': dt.str,\n",
    "        'trans_num': dt.str,\n",
    "        # 'unix_time': dt.int64,\n",
    "        # 'merch_lat': dt.float64,\n",
    "        # 'merch_long': dt.float64,\n",
    "        # 'is_fraud': dt.int32,\n",
    "    }   \n",
    ")\n",
    "\n",
    "source_configs = {\n",
    "    \"connector\": \"kafka\",\n",
    "    \"topic\": \"transaction\",\n",
    "    \"properties.bootstrap.servers\": \"localhost:9092\" if local else \"kafka:29092\",\n",
    "    \"properties.group.id\": \"test_3\",\n",
    "    \"scan.startup.mode\": \"earliest-offset\",\n",
    "    \"format\": \"json\",\n",
    "}\n",
    "\n",
    "t = connection.create_table(\n",
    "    \"transaction\",\n",
    "    schema=source_schema,\n",
    "    tbl_properties=source_configs,\n",
    "    watermark=ibis.watermark(\n",
    "        time_col=\"trans_date_trans_time\", allowed_delay=ibis.interval(seconds=15)\n",
    "    ),\n",
    ")\n"
   ]
  },
  {
   "cell_type": "code",
   "execution_count": 12,
   "metadata": {},
   "outputs": [],
   "source": [
    "# connection.drop_table(\"transaction\")"
   ]
  },
  {
   "cell_type": "code",
   "execution_count": 10,
   "metadata": {},
   "outputs": [
    {
     "data": {
      "text/html": [
       "<pre style=\"white-space:pre;overflow-x:auto;line-height:normal;font-family:Menlo,'DejaVu Sans Mono',consolas,'Courier New',monospace\">DatabaseTable: fraud_features_table\n",
       "  trans_num     string\n",
       "  merchant      string\n",
       "  category      string\n",
       "  cc_num        int64\n",
       "  amt           float64\n",
       "  cc_num_amt_5m float64\n",
       "</pre>\n"
      ],
      "text/plain": [
       "DatabaseTable: fraud_features_table\n",
       "  trans_num     string\n",
       "  merchant      string\n",
       "  category      string\n",
       "  cc_num        int64\n",
       "  amt           float64\n",
       "  cc_num_amt_5m float64"
      ]
     },
     "execution_count": 10,
     "metadata": {},
     "output_type": "execute_result"
    }
   ],
   "source": [
    "# 3. create sink Table\n",
    "sink_schema = sch.Schema(\n",
    "    {\n",
    "        'trans_num': dt.str,\n",
    "        'merchant': dt.str,\n",
    "        'category': dt.str,\n",
    "        'cc_num': dt.int64,\n",
    "        'amt': dt.float64,\n",
    "        'cc_num_amt_5m': dt.float64, \n",
    "        # 'merchant_amt_5m': dt.float64, \n",
    "        # 'category_amt_5m': dt.float64,       \n",
    "    }\n",
    ")\n",
    "\n",
    "sink_configs = {\n",
    "    \"connector\": \"kafka\",\n",
    "    \"topic\": \"fraud_features_topic\",\n",
    "    \"properties.bootstrap.servers\": \"localhost:9092\" if local else \"kafka:29092\",\n",
    "    \"format\": \"json\",\n",
    "}\n",
    "\n",
    "connection.create_table(\n",
    "    \"fraud_features_table\", schema=sink_schema, tbl_properties=sink_configs\n",
    ")"
   ]
  },
  {
   "cell_type": "code",
   "execution_count": 26,
   "metadata": {},
   "outputs": [],
   "source": [
    "# connection.drop_table(\"fraud_features_table\")"
   ]
  },
  {
   "cell_type": "code",
   "execution_count": 11,
   "metadata": {},
   "outputs": [],
   "source": [
    "def create_window_spec(group_by, order_by, interval_in_minutes):\n",
    "    return ibis.window(\n",
    "        group_by=group_by,\n",
    "        order_by=order_by,\n",
    "        range=(-ibis.interval(minutes=interval_in_minutes), 0),\n",
    "    )\n",
    "window_spec = create_window_spec(group_by=t.cc_num, order_by=t.trans_num, interval_in_minutes=5)"
   ]
  },
  {
   "cell_type": "code",
   "execution_count": 12,
   "metadata": {},
   "outputs": [],
   "source": [
    "# 4. query from source table and perform calculations\n",
    "agged = t[\n",
    "    t.trans_num,\n",
    "    t.merchant,\n",
    "    t.category,\n",
    "    t.cc_num.name(\"cc_num\"),\n",
    "    t.amt,\n",
    "    t.amt.sum()\n",
    "        .over(create_window_spec(group_by=t.cc_num, order_by=t.trans_date_trans_time, interval_in_minutes=1))\n",
    "        .name(\"cc_num_amt_5m\"),\n",
    "    # t.amt.sum()\n",
    "    #     .over(create_window_spec(group_by=t.cc_num, order_by=t.trans_date_trans_time, interval_in_minutes=5))\n",
    "    #     .name(\"merchant_amt_5m\"),\n",
    "    # t.amt.sum()\n",
    "    #     .over(create_window_spec(group_by=t.cc_num, order_by=t.trans_date_trans_time, interval_in_minutes=10))\n",
    "    #     .name(\"category_amt_5m\"),\n",
    "   \n",
    "]"
   ]
  },
  {
   "cell_type": "code",
   "execution_count": 13,
   "metadata": {},
   "outputs": [
    {
     "data": {
      "text/html": [
       "<pre style=\"white-space:pre;overflow-x:auto;line-height:normal;font-family:Menlo,'DejaVu Sans Mono',consolas,'Courier New',monospace\">r0 := DatabaseTable: transaction\n",
       "  trans_date_trans_time timestamp(3)\n",
       "  cc_num                int64\n",
       "  amt                   float64\n",
       "  merchant              string\n",
       "  category              string\n",
       "  trans_num             string\n",
       "\n",
       "Selection[r0]\n",
       "  selections:\n",
       "    trans_num:     r0.trans_num\n",
       "    merchant:      r0.merchant\n",
       "    category:      r0.category\n",
       "    cc_num:        r0.cc_num\n",
       "    amt:           r0.amt\n",
       "    cc_num_amt_5m: WindowFunction(func=Sum(r0.amt), frame=RangeWindowFrame(table=r0, start=WindowBoundary(value=1 \n",
       "m, preceding=True), end=WindowBoundary(Cast(0, to=interval('m'))), group_by=[r0.cc_num], order_by=[asc \n",
       "r0.trans_date_trans_time]))\n",
       "</pre>\n"
      ],
      "text/plain": [
       "r0 := DatabaseTable: transaction\n",
       "  trans_date_trans_time timestamp(3)\n",
       "  cc_num                int64\n",
       "  amt                   float64\n",
       "  merchant              string\n",
       "  category              string\n",
       "  trans_num             string\n",
       "\n",
       "Selection[r0]\n",
       "  selections:\n",
       "    trans_num:     r0.trans_num\n",
       "    merchant:      r0.merchant\n",
       "    category:      r0.category\n",
       "    cc_num:        r0.cc_num\n",
       "    amt:           r0.amt\n",
       "    cc_num_amt_5m: WindowFunction(func=Sum(r0.amt), frame=RangeWindowFrame(table=r0, start=WindowBoundary(value=1 \n",
       "m, preceding=True), end=WindowBoundary(Cast(0, to=interval('m'))), group_by=[r0.cc_num], order_by=[asc \n",
       "r0.trans_date_trans_time]))"
      ]
     },
     "execution_count": 13,
     "metadata": {},
     "output_type": "execute_result"
    }
   ],
   "source": [
    "agged"
   ]
  },
  {
   "cell_type": "code",
   "execution_count": 14,
   "metadata": {},
   "outputs": [
    {
     "data": {
      "text/plain": [
       "<pyflink.table.table_result.TableResult at 0x7f1f0c0819c0>"
      ]
     },
     "execution_count": 14,
     "metadata": {},
     "output_type": "execute_result"
    }
   ],
   "source": [
    "# 5. emit query result to sink table\n",
    "connection.insert(\"fraud_features_table\", agged)"
   ]
  },
  {
   "cell_type": "code",
   "execution_count": 15,
   "metadata": {},
   "outputs": [
    {
     "name": "stdout",
     "output_type": "stream",
     "text": [
      "ConsumerRecord(topic='fraud_features_topic', partition=0, offset=9686, timestamp=1704326690514, timestamp_type=0, key=None, value=b'{\"trans_num\":\"f3870d607e888d38a79ef952b28e676b\",\"merchant\":\"fraud_Lubowitz-Walter\",\"category\":\"kids_pets\",\"cc_num\":4900630000000,\"amt\":39.64,\"cc_num_amt_5m\":39.64}', headers=[], checksum=None, serialized_key_size=-1, serialized_value_size=163, serialized_header_size=-1)\n",
      "ConsumerRecord(topic='fraud_features_topic', partition=0, offset=9687, timestamp=1704326690514, timestamp_type=0, key=None, value=b'{\"trans_num\":\"1887c447c6d598e2559e1b1f3f35d5f4\",\"merchant\":\"fraud_Bednar PLC\",\"category\":\"kids_pets\",\"cc_num\":2383460000000000,\"amt\":89.61,\"cc_num_amt_5m\":89.61}', headers=[], checksum=None, serialized_key_size=-1, serialized_value_size=161, serialized_header_size=-1)\n",
      "ConsumerRecord(topic='fraud_features_topic', partition=0, offset=9688, timestamp=1704326690514, timestamp_type=0, key=None, value=b'{\"trans_num\":\"415e39baad9608d29025e28ed99dda98\",\"merchant\":\"fraud_Gottlieb Group\",\"category\":\"kids_pets\",\"cc_num\":4116550000000000,\"amt\":166.8,\"cc_num_amt_5m\":166.8}', headers=[], checksum=None, serialized_key_size=-1, serialized_value_size=165, serialized_header_size=-1)\n",
      "ConsumerRecord(topic='fraud_features_topic', partition=0, offset=9689, timestamp=1704326690514, timestamp_type=0, key=None, value=b'{\"trans_num\":\"6347bb40335685c0ad5c50a910eb5f67\",\"merchant\":\"fraud_Okuneva, Schneider and Rau\",\"category\":\"shopping_pos\",\"cc_num\":180018000000000,\"amt\":2.09,\"cc_num_amt_5m\":2.09}', headers=[], checksum=None, serialized_key_size=-1, serialized_value_size=177, serialized_header_size=-1)\n",
      "ConsumerRecord(topic='fraud_features_topic', partition=0, offset=9690, timestamp=1704326690514, timestamp_type=0, key=None, value=b'{\"trans_num\":\"ca616866327d023cde41946234d1c846\",\"merchant\":\"fraud_Mayert Group\",\"category\":\"shopping_pos\",\"cc_num\":4378990000000000,\"amt\":1.6,\"cc_num_amt_5m\":3.569999999999999}', headers=[], checksum=None, serialized_key_size=-1, serialized_value_size=176, serialized_header_size=-1)\n",
      "ConsumerRecord(topic='fraud_features_topic', partition=0, offset=9691, timestamp=1704326690514, timestamp_type=0, key=None, value=b'{\"trans_num\":\"d3a909b40d256a432399d782c43f82e4\",\"merchant\":\"fraud_Cartwright PLC\",\"category\":\"kids_pets\",\"cc_num\":3589260000000000,\"amt\":38.77,\"cc_num_amt_5m\":252.94000000000003}', headers=[], checksum=None, serialized_key_size=-1, serialized_value_size=178, serialized_header_size=-1)\n",
      "ConsumerRecord(topic='fraud_features_topic', partition=0, offset=9692, timestamp=1704326690514, timestamp_type=0, key=None, value=b'{\"trans_num\":\"78bda8e1a6fd1a1f7ff94cd17eceb6dd\",\"merchant\":\"fraud_Schroeder, Wolff and Hermiston\",\"category\":\"travel\",\"cc_num\":676369000000,\"amt\":1.23,\"cc_num_amt_5m\":78.73000000000002}', headers=[], checksum=None, serialized_key_size=-1, serialized_value_size=185, serialized_header_size=-1)\n",
      "ConsumerRecord(topic='fraud_features_topic', partition=0, offset=9693, timestamp=1704326690514, timestamp_type=0, key=None, value=b'{\"trans_num\":\"8470906ba0dc4e9db9724f55e1e006e4\",\"merchant\":\"fraud_Koss, Hansen and Lueilwitz\",\"category\":\"home\",\"cc_num\":30044300000000,\"amt\":33.14,\"cc_num_amt_5m\":210.25}', headers=[], checksum=None, serialized_key_size=-1, serialized_value_size=171, serialized_header_size=-1)\n",
      "ConsumerRecord(topic='fraud_features_topic', partition=0, offset=9694, timestamp=1704326690515, timestamp_type=0, key=None, value=b'{\"trans_num\":\"ca58398faecfcf87de32eebc83ab4fd3\",\"merchant\":\"fraud_Harris Group\",\"category\":\"food_dining\",\"cc_num\":2706980000000000,\"amt\":62.19,\"cc_num_amt_5m\":62.190000000000026}', headers=[], checksum=None, serialized_key_size=-1, serialized_value_size=178, serialized_header_size=-1)\n",
      "ConsumerRecord(topic='fraud_features_topic', partition=0, offset=9695, timestamp=1704326690515, timestamp_type=0, key=None, value=b'{\"trans_num\":\"9c8108f1b4bbb5cdb365eb61986d33be\",\"merchant\":\"fraud_Fritsch LLC\",\"category\":\"travel\",\"cc_num\":213114000000000,\"amt\":8.06,\"cc_num_amt_5m\":8.06}', headers=[], checksum=None, serialized_key_size=-1, serialized_value_size=156, serialized_header_size=-1)\n"
     ]
    }
   ],
   "source": [
    "if local:\n",
    "    # Use the Kafka Python client to stream records from the sink topic.\n",
    "    # Otherwise, the mini cluster will shut down upon script completion.\n",
    "    consumer = KafkaConsumer(\"fraud_features_topic\")\n",
    "    for _, msg in zip(range(10), consumer):\n",
    "        print(msg)\n"
   ]
  },
  {
   "cell_type": "code",
   "execution_count": null,
   "metadata": {},
   "outputs": [],
   "source": []
  }
 ],
 "metadata": {
  "kernelspec": {
   "display_name": "Python 3 (ipykernel)",
   "language": "python",
   "name": "python3"
  },
  "language_info": {
   "codemirror_mode": {
    "name": "ipython",
    "version": 3
   },
   "file_extension": ".py",
   "mimetype": "text/x-python",
   "name": "python",
   "nbconvert_exporter": "python",
   "pygments_lexer": "ipython3",
   "version": "3.10.13"
  },
  "orig_nbformat": 4
 },
 "nbformat": 4,
 "nbformat_minor": 2
}
