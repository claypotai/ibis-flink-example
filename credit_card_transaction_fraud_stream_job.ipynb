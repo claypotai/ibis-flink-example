{
 "cells": [
  {
   "cell_type": "code",
   "execution_count": 1,
   "metadata": {},
   "outputs": [],
   "source": [
    "import sys\n",
    "\n",
    "import ibis\n",
    "import ibis.expr.datatypes as dt\n",
    "import ibis.expr.schema as sch\n",
    "from kafka import KafkaConsumer\n",
    "from pyflink.table import EnvironmentSettings, TableEnvironment\n",
    "import pandas as pd\n",
    "import json"
   ]
  },
  {
   "cell_type": "code",
   "execution_count": 2,
   "metadata": {},
   "outputs": [],
   "source": [
    "# rows = []\n",
    "# consumer = KafkaConsumer(\"transaction\")\n",
    "# for _, msg in zip(range(10), consumer):\n",
    "#     rows.append(msg)"
   ]
  },
  {
   "cell_type": "code",
   "execution_count": 4,
   "metadata": {},
   "outputs": [
    {
     "data": {
      "text/plain": [
       "b'{\"trans_date_trans_time\": \"2024-01-04 00:04:17.624\", \"cc_num\": 4502540000000000000, \"merchant\": \"fraud_Dare-Gibson\", \"category\": \"health_fitness\", \"amt\": 8.95, \"trans_num\": \"61b17bfb4709a5ec8b7c249841178db4\"}'"
      ]
     },
     "execution_count": 4,
     "metadata": {},
     "output_type": "execute_result"
    }
   ],
   "source": [
    "# rows[0].value"
   ]
  },
  {
   "cell_type": "code",
   "execution_count": 3,
   "metadata": {},
   "outputs": [
    {
     "data": {
      "text/html": [
       "<div>\n",
       "<style scoped>\n",
       "    .dataframe tbody tr th:only-of-type {\n",
       "        vertical-align: middle;\n",
       "    }\n",
       "\n",
       "    .dataframe tbody tr th {\n",
       "        vertical-align: top;\n",
       "    }\n",
       "\n",
       "    .dataframe thead th {\n",
       "        text-align: right;\n",
       "    }\n",
       "</style>\n",
       "<table border=\"1\" class=\"dataframe\">\n",
       "  <thead>\n",
       "    <tr style=\"text-align: right;\">\n",
       "      <th></th>\n",
       "      <th>trans_date_trans_time</th>\n",
       "      <th>cc_num</th>\n",
       "      <th>merchant</th>\n",
       "      <th>category</th>\n",
       "      <th>amt</th>\n",
       "      <th>trans_num</th>\n",
       "    </tr>\n",
       "  </thead>\n",
       "  <tbody>\n",
       "    <tr>\n",
       "      <th>0</th>\n",
       "      <td>2024-01-05 21:25:01.976</td>\n",
       "      <td>3517810000000000</td>\n",
       "      <td>fraud_Deckow-O'Conner</td>\n",
       "      <td>grocery_pos</td>\n",
       "      <td>138.23</td>\n",
       "      <td>fbd262bbb6d156f57ee4868089051ccf</td>\n",
       "    </tr>\n",
       "    <tr>\n",
       "      <th>1</th>\n",
       "      <td>2024-01-05 21:25:02.077</td>\n",
       "      <td>4585130000000</td>\n",
       "      <td>fraud_Erdman-Kertzmann</td>\n",
       "      <td>gas_transport</td>\n",
       "      <td>69.72</td>\n",
       "      <td>6ed5502e8464efee2e341959617bb656</td>\n",
       "    </tr>\n",
       "    <tr>\n",
       "      <th>2</th>\n",
       "      <td>2024-01-05 21:25:02.177</td>\n",
       "      <td>676327000000</td>\n",
       "      <td>fraud_Hills-Olson</td>\n",
       "      <td>grocery_net</td>\n",
       "      <td>48.39</td>\n",
       "      <td>a8701a55000472ccae101302e4d2b9f1</td>\n",
       "    </tr>\n",
       "    <tr>\n",
       "      <th>3</th>\n",
       "      <td>2024-01-05 21:25:02.277</td>\n",
       "      <td>639024000000</td>\n",
       "      <td>fraud_Huels-Nolan</td>\n",
       "      <td>gas_transport</td>\n",
       "      <td>53.33</td>\n",
       "      <td>10ec7fc2395a5292495c481d9c99e51a</td>\n",
       "    </tr>\n",
       "    <tr>\n",
       "      <th>4</th>\n",
       "      <td>2024-01-05 21:25:02.378</td>\n",
       "      <td>2229380000000000</td>\n",
       "      <td>fraud_Hickle Group</td>\n",
       "      <td>shopping_pos</td>\n",
       "      <td>142.88</td>\n",
       "      <td>79bcbb0643cd247e0d207e75ec9e941e</td>\n",
       "    </tr>\n",
       "    <tr>\n",
       "      <th>5</th>\n",
       "      <td>2024-01-05 21:25:02.478</td>\n",
       "      <td>213174000000000</td>\n",
       "      <td>fraud_Schultz, Simonis and Little</td>\n",
       "      <td>grocery_pos</td>\n",
       "      <td>98.01</td>\n",
       "      <td>01264afa6306be16946441c6e5916f3d</td>\n",
       "    </tr>\n",
       "    <tr>\n",
       "      <th>6</th>\n",
       "      <td>2024-01-05 21:25:02.578</td>\n",
       "      <td>4826660000000000</td>\n",
       "      <td>fraud_Koepp-Witting</td>\n",
       "      <td>grocery_pos</td>\n",
       "      <td>154.00</td>\n",
       "      <td>170f40b5833c8a9765c5402d8a2a03a2</td>\n",
       "    </tr>\n",
       "    <tr>\n",
       "      <th>7</th>\n",
       "      <td>2024-01-05 21:25:02.679</td>\n",
       "      <td>4640400000000</td>\n",
       "      <td>fraud_Koss and Sons</td>\n",
       "      <td>gas_transport</td>\n",
       "      <td>47.19</td>\n",
       "      <td>006c20afb2193760d9f923c065d33b9e</td>\n",
       "    </tr>\n",
       "    <tr>\n",
       "      <th>8</th>\n",
       "      <td>2024-01-05 21:25:02.779</td>\n",
       "      <td>4116550000000000</td>\n",
       "      <td>fraud_Mosciski, Ziemann and Farrell</td>\n",
       "      <td>shopping_net</td>\n",
       "      <td>38.21</td>\n",
       "      <td>f80458b210ec8dd611bbd2790e4011aa</td>\n",
       "    </tr>\n",
       "    <tr>\n",
       "      <th>9</th>\n",
       "      <td>2024-01-05 21:25:02.879</td>\n",
       "      <td>3590740000000000</td>\n",
       "      <td>fraud_Stamm-Rodriguez</td>\n",
       "      <td>misc_pos</td>\n",
       "      <td>76.40</td>\n",
       "      <td>22dfa297ab94683757e91ba3b9628282</td>\n",
       "    </tr>\n",
       "  </tbody>\n",
       "</table>\n",
       "</div>"
      ],
      "text/plain": [
       "     trans_date_trans_time            cc_num  \\\n",
       "0  2024-01-05 21:25:01.976  3517810000000000   \n",
       "1  2024-01-05 21:25:02.077     4585130000000   \n",
       "2  2024-01-05 21:25:02.177      676327000000   \n",
       "3  2024-01-05 21:25:02.277      639024000000   \n",
       "4  2024-01-05 21:25:02.378  2229380000000000   \n",
       "5  2024-01-05 21:25:02.478   213174000000000   \n",
       "6  2024-01-05 21:25:02.578  4826660000000000   \n",
       "7  2024-01-05 21:25:02.679     4640400000000   \n",
       "8  2024-01-05 21:25:02.779  4116550000000000   \n",
       "9  2024-01-05 21:25:02.879  3590740000000000   \n",
       "\n",
       "                              merchant       category     amt  \\\n",
       "0                fraud_Deckow-O'Conner    grocery_pos  138.23   \n",
       "1               fraud_Erdman-Kertzmann  gas_transport   69.72   \n",
       "2                    fraud_Hills-Olson    grocery_net   48.39   \n",
       "3                    fraud_Huels-Nolan  gas_transport   53.33   \n",
       "4                   fraud_Hickle Group   shopping_pos  142.88   \n",
       "5    fraud_Schultz, Simonis and Little    grocery_pos   98.01   \n",
       "6                  fraud_Koepp-Witting    grocery_pos  154.00   \n",
       "7                  fraud_Koss and Sons  gas_transport   47.19   \n",
       "8  fraud_Mosciski, Ziemann and Farrell   shopping_net   38.21   \n",
       "9                fraud_Stamm-Rodriguez       misc_pos   76.40   \n",
       "\n",
       "                          trans_num  \n",
       "0  fbd262bbb6d156f57ee4868089051ccf  \n",
       "1  6ed5502e8464efee2e341959617bb656  \n",
       "2  a8701a55000472ccae101302e4d2b9f1  \n",
       "3  10ec7fc2395a5292495c481d9c99e51a  \n",
       "4  79bcbb0643cd247e0d207e75ec9e941e  \n",
       "5  01264afa6306be16946441c6e5916f3d  \n",
       "6  170f40b5833c8a9765c5402d8a2a03a2  \n",
       "7  006c20afb2193760d9f923c065d33b9e  \n",
       "8  f80458b210ec8dd611bbd2790e4011aa  \n",
       "9  22dfa297ab94683757e91ba3b9628282  "
      ]
     },
     "execution_count": 3,
     "metadata": {},
     "output_type": "execute_result"
    }
   ],
   "source": [
    "# import json\n",
    "\n",
    "# import pandas as pd\n",
    "\n",
    "# df = pd.DataFrame([json.loads(row.value) for row in rows])\n",
    "\n",
    "# df"
   ]
  },
  {
   "cell_type": "code",
   "execution_count": 6,
   "metadata": {},
   "outputs": [
    {
     "name": "stdout",
     "output_type": "stream",
     "text": [
      "<class 'pandas.core.frame.DataFrame'>\n",
      "RangeIndex: 10 entries, 0 to 9\n",
      "Data columns (total 6 columns):\n",
      " #   Column                 Non-Null Count  Dtype  \n",
      "---  ------                 --------------  -----  \n",
      " 0   trans_date_trans_time  10 non-null     object \n",
      " 1   cc_num                 10 non-null     int64  \n",
      " 2   merchant               10 non-null     object \n",
      " 3   category               10 non-null     object \n",
      " 4   amt                    10 non-null     float64\n",
      " 5   trans_num              10 non-null     object \n",
      "dtypes: float64(1), int64(1), object(4)\n",
      "memory usage: 608.0+ bytes\n"
     ]
    }
   ],
   "source": [
    "# df.info()"
   ]
  },
  {
   "cell_type": "code",
   "execution_count": 3,
   "metadata": {},
   "outputs": [
    {
     "name": "stdout",
     "output_type": "stream",
     "text": [
      "(0, ConsumerRecord(topic='transaction', partition=0, offset=6530, timestamp=1704491925924, timestamp_type=0, key=None, value=b'{\"trans_date_trans_time\": \"2024-01-05 21:58:45.924\", \"cc_num\": 180065000000000, \"merchant\": \"fraud_Wisozk and Sons\", \"category\": \"misc_pos\", \"amt\": 440.96, \"trans_num\": \"d6ea3690ce1fa61ef02fa6a2915e5f42\"}', headers=[], checksum=None, serialized_key_size=-1, serialized_value_size=204, serialized_header_size=-1))\n",
      "(1, ConsumerRecord(topic='transaction', partition=0, offset=6531, timestamp=1704491926024, timestamp_type=0, key=None, value=b'{\"trans_date_trans_time\": \"2024-01-05 21:58:46.024\", \"cc_num\": 3504180000000000, \"merchant\": \"fraud_DuBuque LLC\", \"category\": \"grocery_pos\", \"amt\": 77.22, \"trans_num\": \"2bc0a0318782edce3913b451dda09b5f\"}', headers=[], checksum=None, serialized_key_size=-1, serialized_value_size=203, serialized_header_size=-1))\n",
      "(2, ConsumerRecord(topic='transaction', partition=0, offset=6532, timestamp=1704491926124, timestamp_type=0, key=None, value=b'{\"trans_date_trans_time\": \"2024-01-05 21:58:46.124\", \"cc_num\": 340954000000000, \"merchant\": \"fraud_Rempel PLC\", \"category\": \"grocery_net\", \"amt\": 41.71, \"trans_num\": \"38dbd48797b8ab960f97bb87cd225021\"}', headers=[], checksum=None, serialized_key_size=-1, serialized_value_size=201, serialized_header_size=-1))\n",
      "(3, ConsumerRecord(topic='transaction', partition=0, offset=6533, timestamp=1704491926225, timestamp_type=0, key=None, value=b'{\"trans_date_trans_time\": \"2024-01-05 21:58:46.225\", \"cc_num\": 4390970000000000000, \"merchant\": \"fraud_Volkman Ltd\", \"category\": \"misc_net\", \"amt\": 2.67, \"trans_num\": \"e2d8717c857c55e4e45079fa715cf5a2\"}', headers=[], checksum=None, serialized_key_size=-1, serialized_value_size=202, serialized_header_size=-1))\n",
      "(4, ConsumerRecord(topic='transaction', partition=0, offset=6534, timestamp=1704491926325, timestamp_type=0, key=None, value=b'{\"trans_date_trans_time\": \"2024-01-05 21:58:46.325\", \"cc_num\": 4633070000000000, \"merchant\": \"fraud_Bailey-Morar\", \"category\": \"grocery_pos\", \"amt\": 59.9, \"trans_num\": \"454824ea481e2ed0e5a66dfeff79bbf7\"}', headers=[], checksum=None, serialized_key_size=-1, serialized_value_size=203, serialized_header_size=-1))\n",
      "(5, ConsumerRecord(topic='transaction', partition=0, offset=6535, timestamp=1704491926425, timestamp_type=0, key=None, value=b'{\"trans_date_trans_time\": \"2024-01-05 21:58:46.425\", \"cc_num\": 4607070000000000, \"merchant\": \"fraud_Schmitt Ltd\", \"category\": \"misc_net\", \"amt\": 3.17, \"trans_num\": \"6a36b7e2cc24e5039971de6be3fb0a32\"}', headers=[], checksum=None, serialized_key_size=-1, serialized_value_size=199, serialized_header_size=-1))\n",
      "(6, ConsumerRecord(topic='transaction', partition=0, offset=6536, timestamp=1704491926526, timestamp_type=0, key=None, value=b'{\"trans_date_trans_time\": \"2024-01-05 21:58:46.526\", \"cc_num\": 4355790000000000000, \"merchant\": \"fraud_Greenholt, Jacobi and Gleason\", \"category\": \"gas_transport\", \"amt\": 54.74, \"trans_num\": \"4fcdb5984dac03d7909f39ca8a2bf322\"}', headers=[], checksum=None, serialized_key_size=-1, serialized_value_size=226, serialized_header_size=-1))\n",
      "(7, ConsumerRecord(topic='transaction', partition=0, offset=6537, timestamp=1704491926626, timestamp_type=0, key=None, value=b'{\"trans_date_trans_time\": \"2024-01-05 21:58:46.626\", \"cc_num\": 180011000000000, \"merchant\": \"fraud_Friesen Inc\", \"category\": \"shopping_pos\", \"amt\": 131.6, \"trans_num\": \"938795e0b0f3656639b6e3f9a5a447db\"}', headers=[], checksum=None, serialized_key_size=-1, serialized_value_size=203, serialized_header_size=-1))\n",
      "(8, ConsumerRecord(topic='transaction', partition=0, offset=6538, timestamp=1704491926726, timestamp_type=0, key=None, value=b'{\"trans_date_trans_time\": \"2024-01-05 21:58:46.726\", \"cc_num\": 2296010000000000, \"merchant\": \"fraud_Harris Inc\", \"category\": \"gas_transport\", \"amt\": 76.87, \"trans_num\": \"cacfe5ec6f5a0e65d973c70a3f2f429f\"}', headers=[], checksum=None, serialized_key_size=-1, serialized_value_size=204, serialized_header_size=-1))\n",
      "(9, ConsumerRecord(topic='transaction', partition=0, offset=6539, timestamp=1704491926827, timestamp_type=0, key=None, value=b'{\"trans_date_trans_time\": \"2024-01-05 21:58:46.827\", \"cc_num\": 4610060000000000, \"merchant\": \"fraud_Spinka Inc\", \"category\": \"grocery_net\", \"amt\": 29.45, \"trans_num\": \"3c5496ef630be7905be5911b5a09b537\"}', headers=[], checksum=None, serialized_key_size=-1, serialized_value_size=202, serialized_header_size=-1))\n"
     ]
    }
   ],
   "source": [
    "consumer = KafkaConsumer(\"transaction\")\n",
    "for msg in zip(range(10), consumer):\n",
    "    print(msg)"
   ]
  },
  {
   "cell_type": "code",
   "execution_count": 3,
   "metadata": {},
   "outputs": [
    {
     "data": {
      "text/plain": [
       "<pyflink.table.table_result.TableResult at 0x7fc9f7b79ea0>"
      ]
     },
     "execution_count": 3,
     "metadata": {},
     "output_type": "execute_result"
    }
   ],
   "source": [
    "local = True\n",
    "\n",
    "# 1. create a TableEnvironment\n",
    "env_settings = EnvironmentSettings.in_streaming_mode()\n",
    "table_env = TableEnvironment.create(env_settings)\n",
    "# write all the data to one file\n",
    "table_env.get_config().set(\"parallelism.default\", \"1\")\n",
    "\n",
    "# The `flink` backend does not create `TableEnvironment` objects; pass\n",
    "# the `TableEnvironment` object created above to `ibis.flink.connect`.\n",
    "connection = ibis.flink.connect(table_env)\n",
    "\n",
    "# Flink’s streaming connectors aren't part of the binary distribution.\n",
    "# Link the Kafka connector for cluster execution by adding a JAR file.\n",
    "connection._exec_sql(\"ADD JAR 'flink-sql-connector-kafka-3.0.2-1.18.jar'\")"
   ]
  },
  {
   "cell_type": "code",
   "execution_count": 4,
   "metadata": {},
   "outputs": [],
   "source": [
    "source_schema = sch.Schema(\n",
    "    {\n",
    "        'trans_date_trans_time': dt.timestamp(scale=3),\n",
    "        'cc_num': dt.int64,\n",
    "        'amt': dt.float64,\n",
    "        'merchant': dt.str,\n",
    "        'category': dt.str,   \n",
    "        # 'first': dt.str,\n",
    "        # 'last': dt.str,\n",
    "        # 'gender': dt.str,\n",
    "        # 'street': dt.str,\n",
    "        # 'city': dt.str,\n",
    "        # 'state': dt.str,\n",
    "        # 'zipcode': dt.str,\n",
    "        # 'latitude': dt.float64,\n",
    "        # 'longitude': dt.float64,\n",
    "        # 'city_pop': dt.int32,\n",
    "        # 'job': dt.str,\n",
    "        # 'dob': dt.str,\n",
    "        'trans_num': dt.str,\n",
    "        # 'unix_time': dt.int64,\n",
    "        # 'merch_lat': dt.float64,\n",
    "        # 'merch_long': dt.float64,\n",
    "        # 'is_fraud': dt.int32,\n",
    "    }   \n",
    ")\n",
    "\n",
    "source_configs = {\n",
    "    \"connector\": \"kafka\",\n",
    "    \"topic\": \"transaction\",\n",
    "    \"properties.bootstrap.servers\": \"localhost:9092\" if local else \"kafka:29092\",\n",
    "    \"properties.group.id\": \"test_3\",\n",
    "    \"scan.startup.mode\": \"earliest-offset\",\n",
    "    \"format\": \"json\",\n",
    "}\n",
    "\n",
    "t = connection.create_table(\n",
    "    \"transaction\",\n",
    "    schema=source_schema,\n",
    "    tbl_properties=source_configs,\n",
    "    watermark=ibis.watermark(\n",
    "        time_col=\"trans_date_trans_time\", allowed_delay=ibis.interval(seconds=15)\n",
    "    ),\n",
    ")\n"
   ]
  },
  {
   "cell_type": "code",
   "execution_count": 5,
   "metadata": {},
   "outputs": [],
   "source": [
    "# connection.drop_table(\"transaction\")"
   ]
  },
  {
   "cell_type": "code",
   "execution_count": 9,
   "metadata": {},
   "outputs": [
    {
     "data": {
      "text/html": [
       "<pre style=\"white-space:pre;overflow-x:auto;line-height:normal;font-family:Menlo,'DejaVu Sans Mono',consolas,'Courier New',monospace\">DatabaseTable: fraud_features_table\n",
       "  trans_num             string\n",
       "  trans_date_trans_time timestamp(3)\n",
       "  cc_num_amt_5m         float64\n",
       "  cc_num_amt_60m        float64\n",
       "</pre>\n"
      ],
      "text/plain": [
       "DatabaseTable: fraud_features_table\n",
       "  trans_num             string\n",
       "  trans_date_trans_time timestamp(3)\n",
       "  cc_num_amt_5m         float64\n",
       "  cc_num_amt_60m        float64"
      ]
     },
     "execution_count": 9,
     "metadata": {},
     "output_type": "execute_result"
    }
   ],
   "source": [
    "# 3. create sink Table\n",
    "sink_schema = sch.Schema(\n",
    "    {\n",
    "        'trans_num': dt.str,\n",
    "        # 'merchant': dt.str,\n",
    "        # 'category': dt.str,\n",
    "        # 'cc_num': dt.int64,\n",
    "        # 'amt': dt.float64,\n",
    "        'trans_date_trans_time':  dt.timestamp(scale=3),\n",
    "        'cc_num_amt_5m': dt.float64, \n",
    "        'cc_num_amt_60m': dt.float64, \n",
    "        # 'merchant_amt_5m': dt.float64, \n",
    "        # 'category_amt_5m': dt.float64,       \n",
    "    }\n",
    ")\n",
    "\n",
    "sink_configs = {\n",
    "    \"connector\": \"kafka\",\n",
    "    \"topic\": \"fraud_features_topic\",\n",
    "    \"properties.bootstrap.servers\": \"localhost:9092\" if local else \"kafka:29092\",\n",
    "    \"format\": \"json\",\n",
    "}\n",
    "\n",
    "connection.create_table(\n",
    "    \"fraud_features_table\", schema=sink_schema, tbl_properties=sink_configs\n",
    ")"
   ]
  },
  {
   "cell_type": "code",
   "execution_count": 10,
   "metadata": {},
   "outputs": [],
   "source": [
    "# connection.drop_table(\"fraud_features_table\")"
   ]
  },
  {
   "cell_type": "code",
   "execution_count": 8,
   "metadata": {},
   "outputs": [],
   "source": [
    "def create_window_spec(group_by, order_by, interval_in_minutes):\n",
    "    return ibis.window(\n",
    "        group_by=group_by,\n",
    "        order_by=order_by,\n",
    "        range=(-ibis.interval(minutes=interval_in_minutes), 0),\n",
    "    )\n",
    "window_spec = create_window_spec(group_by=t.cc_num, order_by=t.trans_num, interval_in_minutes=5)"
   ]
  },
  {
   "cell_type": "code",
   "execution_count": 11,
   "metadata": {},
   "outputs": [],
   "source": [
    "# 4. query from source table and perform calculations\n",
    "agged_cc_num_5m = t[\n",
    "    t.trans_num,\n",
    "    t.trans_date_trans_time,\n",
    "    t.amt.sum()\n",
    "        .over(create_window_spec(group_by=t.cc_num, order_by=t.trans_date_trans_time, interval_in_minutes=5))\n",
    "        .name(\"cc_num_amt_5m\")\n",
    "]"
   ]
  },
  {
   "cell_type": "code",
   "execution_count": 12,
   "metadata": {},
   "outputs": [],
   "source": [
    "agged_cc_num_60m = t[\n",
    "    t.trans_num,\n",
    "    t.trans_date_trans_time,\n",
    "    t.amt.sum()\n",
    "        .over(create_window_spec(group_by=t.cc_num, order_by=t.trans_date_trans_time, interval_in_minutes=60))\n",
    "        .name(\"cc_num_amt_60m\")\n",
    "]"
   ]
  },
  {
   "cell_type": "code",
   "execution_count": 13,
   "metadata": {},
   "outputs": [],
   "source": [
    "agged = agged_cc_num_5m.asof_join(\n",
    "    agged_cc_num_60m, \n",
    "    predicates = [\n",
    "        agged_cc_num_60m['trans_date_trans_time'] <= agged_cc_num_5m['trans_date_trans_time'],\n",
    "        agged_cc_num_60m['trans_num'] == agged_cc_num_5m['trans_num']\n",
    "    ]\n",
    ")"
   ]
  },
  {
   "cell_type": "code",
   "execution_count": 14,
   "metadata": {},
   "outputs": [],
   "source": [
    "agged = agged[agged.trans_num, agged.trans_date_trans_time, agged.cc_num_amt_5m, agged.cc_num_amt_60m]"
   ]
  },
  {
   "cell_type": "code",
   "execution_count": 15,
   "metadata": {},
   "outputs": [
    {
     "data": {
      "text/html": [
       "<pre style=\"white-space:pre;overflow-x:auto;line-height:normal;font-family:Menlo,'DejaVu Sans Mono',consolas,'Courier New',monospace\">r0 := DatabaseTable: transaction\n",
       "  trans_date_trans_time timestamp(3)\n",
       "  cc_num                int64\n",
       "  amt                   float64\n",
       "  merchant              string\n",
       "  category              string\n",
       "  trans_num             string\n",
       "\n",
       "r1 := Selection[r0]\n",
       "  selections:\n",
       "    trans_num:             r0.trans_num\n",
       "    trans_date_trans_time: r0.trans_date_trans_time\n",
       "    cc_num_amt_5m:         WindowFunction(func=Sum(r0.amt), frame=RangeWindowFrame(table=r0, \n",
       "start=WindowBoundary(value=5 m, preceding=True), end=WindowBoundary(Cast(0, to=interval('m'))), \n",
       "group_by=[r0.cc_num], order_by=[asc r0.trans_date_trans_time]))\n",
       "\n",
       "r2 := Selection[r0]\n",
       "  selections:\n",
       "    trans_num:             r0.trans_num\n",
       "    trans_date_trans_time: r0.trans_date_trans_time\n",
       "    cc_num_amt_60m:        WindowFunction(func=Sum(r0.amt), frame=RangeWindowFrame(table=r0, \n",
       "start=WindowBoundary(value=60 m, preceding=True), end=WindowBoundary(Cast(0, to=interval('m'))), \n",
       "group_by=[r0.cc_num], order_by=[asc r0.trans_date_trans_time]))\n",
       "\n",
       "r3 := AsOfJoin[r1, r2]\n",
       "  predicates:\n",
       "    r2.trans_date_trans_time &lt;= r1.trans_date_trans_time\n",
       "    r2.trans_num == r1.trans_num\n",
       "\n",
       "r4 := Selection[r3]\n",
       "  selections:\n",
       "    trans_num:                   r1.trans_num\n",
       "    trans_date_trans_time:       r1.trans_date_trans_time\n",
       "    cc_num_amt_5m:               r1.cc_num_amt_5m\n",
       "    trans_date_trans_time_right: r2.trans_date_trans_time\n",
       "    cc_num_amt_60m:              r2.cc_num_amt_60m\n",
       "\n",
       "Selection[r4]\n",
       "  selections:\n",
       "    trans_num:             r4.trans_num\n",
       "    trans_date_trans_time: r4.trans_date_trans_time\n",
       "    cc_num_amt_5m:         r4.cc_num_amt_5m\n",
       "    cc_num_amt_60m:        r4.cc_num_amt_60m\n",
       "</pre>\n"
      ],
      "text/plain": [
       "r0 := DatabaseTable: transaction\n",
       "  trans_date_trans_time timestamp(3)\n",
       "  cc_num                int64\n",
       "  amt                   float64\n",
       "  merchant              string\n",
       "  category              string\n",
       "  trans_num             string\n",
       "\n",
       "r1 := Selection[r0]\n",
       "  selections:\n",
       "    trans_num:             r0.trans_num\n",
       "    trans_date_trans_time: r0.trans_date_trans_time\n",
       "    cc_num_amt_5m:         WindowFunction(func=Sum(r0.amt), frame=RangeWindowFrame(table=r0, \n",
       "start=WindowBoundary(value=5 m, preceding=True), end=WindowBoundary(Cast(0, to=interval('m'))), \n",
       "group_by=[r0.cc_num], order_by=[asc r0.trans_date_trans_time]))\n",
       "\n",
       "r2 := Selection[r0]\n",
       "  selections:\n",
       "    trans_num:             r0.trans_num\n",
       "    trans_date_trans_time: r0.trans_date_trans_time\n",
       "    cc_num_amt_60m:        WindowFunction(func=Sum(r0.amt), frame=RangeWindowFrame(table=r0, \n",
       "start=WindowBoundary(value=60 m, preceding=True), end=WindowBoundary(Cast(0, to=interval('m'))), \n",
       "group_by=[r0.cc_num], order_by=[asc r0.trans_date_trans_time]))\n",
       "\n",
       "r3 := AsOfJoin[r1, r2]\n",
       "  predicates:\n",
       "    r2.trans_date_trans_time <= r1.trans_date_trans_time\n",
       "    r2.trans_num == r1.trans_num\n",
       "\n",
       "r4 := Selection[r3]\n",
       "  selections:\n",
       "    trans_num:                   r1.trans_num\n",
       "    trans_date_trans_time:       r1.trans_date_trans_time\n",
       "    cc_num_amt_5m:               r1.cc_num_amt_5m\n",
       "    trans_date_trans_time_right: r2.trans_date_trans_time\n",
       "    cc_num_amt_60m:              r2.cc_num_amt_60m\n",
       "\n",
       "Selection[r4]\n",
       "  selections:\n",
       "    trans_num:             r4.trans_num\n",
       "    trans_date_trans_time: r4.trans_date_trans_time\n",
       "    cc_num_amt_5m:         r4.cc_num_amt_5m\n",
       "    cc_num_amt_60m:        r4.cc_num_amt_60m"
      ]
     },
     "execution_count": 15,
     "metadata": {},
     "output_type": "execute_result"
    }
   ],
   "source": [
    "agged"
   ]
  },
  {
   "cell_type": "code",
   "execution_count": 16,
   "metadata": {},
   "outputs": [],
   "source": [
    "# # 4. query from source table and perform calculations\n",
    "# agged = t[\n",
    "#     t.trans_num,\n",
    "#     t.merchant,\n",
    "#     t.category,\n",
    "#     t.cc_num.name(\"cc_num\"),\n",
    "#     t.amt,\n",
    "#     t.amt.sum()\n",
    "#         .over(create_window_spec(group_by=t.cc_num, order_by=t.trans_date_trans_time, interval_in_minutes=1))\n",
    "#         .name(\"cc_num_amt_5m\"),\n",
    "#     # t.amt.sum()\n",
    "#     #     .over(create_window_spec(group_by=t.cc_num, order_by=t.trans_date_trans_time, interval_in_minutes=5))\n",
    "#     #     .name(\"merchant_amt_5m\"),\n",
    "#     # t.amt.sum()\n",
    "#     #     .over(create_window_spec(group_by=t.cc_num, order_by=t.trans_date_trans_time, interval_in_minutes=10))\n",
    "#     #     .name(\"category_amt_5m\"),\n",
    "   \n",
    "# ]"
   ]
  },
  {
   "cell_type": "code",
   "execution_count": 17,
   "metadata": {},
   "outputs": [
    {
     "data": {
      "text/html": [
       "<pre style=\"white-space:pre;overflow-x:auto;line-height:normal;font-family:Menlo,'DejaVu Sans Mono',consolas,'Courier New',monospace\">r0 := DatabaseTable: transaction\n",
       "  trans_date_trans_time timestamp(3)\n",
       "  cc_num                int64\n",
       "  amt                   float64\n",
       "  merchant              string\n",
       "  category              string\n",
       "  trans_num             string\n",
       "\n",
       "r1 := Selection[r0]\n",
       "  selections:\n",
       "    trans_num:             r0.trans_num\n",
       "    trans_date_trans_time: r0.trans_date_trans_time\n",
       "    cc_num_amt_5m:         WindowFunction(func=Sum(r0.amt), frame=RangeWindowFrame(table=r0, \n",
       "start=WindowBoundary(value=5 m, preceding=True), end=WindowBoundary(Cast(0, to=interval('m'))), \n",
       "group_by=[r0.cc_num], order_by=[asc r0.trans_date_trans_time]))\n",
       "\n",
       "r2 := Selection[r0]\n",
       "  selections:\n",
       "    trans_num:             r0.trans_num\n",
       "    trans_date_trans_time: r0.trans_date_trans_time\n",
       "    cc_num_amt_60m:        WindowFunction(func=Sum(r0.amt), frame=RangeWindowFrame(table=r0, \n",
       "start=WindowBoundary(value=60 m, preceding=True), end=WindowBoundary(Cast(0, to=interval('m'))), \n",
       "group_by=[r0.cc_num], order_by=[asc r0.trans_date_trans_time]))\n",
       "\n",
       "r3 := AsOfJoin[r1, r2]\n",
       "  predicates:\n",
       "    r2.trans_date_trans_time &lt;= r1.trans_date_trans_time\n",
       "    r2.trans_num == r1.trans_num\n",
       "\n",
       "r4 := Selection[r3]\n",
       "  selections:\n",
       "    trans_num:                   r1.trans_num\n",
       "    trans_date_trans_time:       r1.trans_date_trans_time\n",
       "    cc_num_amt_5m:               r1.cc_num_amt_5m\n",
       "    trans_date_trans_time_right: r2.trans_date_trans_time\n",
       "    cc_num_amt_60m:              r2.cc_num_amt_60m\n",
       "\n",
       "Selection[r4]\n",
       "  selections:\n",
       "    trans_num:             r4.trans_num\n",
       "    trans_date_trans_time: r4.trans_date_trans_time\n",
       "    cc_num_amt_5m:         r4.cc_num_amt_5m\n",
       "    cc_num_amt_60m:        r4.cc_num_amt_60m\n",
       "</pre>\n"
      ],
      "text/plain": [
       "r0 := DatabaseTable: transaction\n",
       "  trans_date_trans_time timestamp(3)\n",
       "  cc_num                int64\n",
       "  amt                   float64\n",
       "  merchant              string\n",
       "  category              string\n",
       "  trans_num             string\n",
       "\n",
       "r1 := Selection[r0]\n",
       "  selections:\n",
       "    trans_num:             r0.trans_num\n",
       "    trans_date_trans_time: r0.trans_date_trans_time\n",
       "    cc_num_amt_5m:         WindowFunction(func=Sum(r0.amt), frame=RangeWindowFrame(table=r0, \n",
       "start=WindowBoundary(value=5 m, preceding=True), end=WindowBoundary(Cast(0, to=interval('m'))), \n",
       "group_by=[r0.cc_num], order_by=[asc r0.trans_date_trans_time]))\n",
       "\n",
       "r2 := Selection[r0]\n",
       "  selections:\n",
       "    trans_num:             r0.trans_num\n",
       "    trans_date_trans_time: r0.trans_date_trans_time\n",
       "    cc_num_amt_60m:        WindowFunction(func=Sum(r0.amt), frame=RangeWindowFrame(table=r0, \n",
       "start=WindowBoundary(value=60 m, preceding=True), end=WindowBoundary(Cast(0, to=interval('m'))), \n",
       "group_by=[r0.cc_num], order_by=[asc r0.trans_date_trans_time]))\n",
       "\n",
       "r3 := AsOfJoin[r1, r2]\n",
       "  predicates:\n",
       "    r2.trans_date_trans_time <= r1.trans_date_trans_time\n",
       "    r2.trans_num == r1.trans_num\n",
       "\n",
       "r4 := Selection[r3]\n",
       "  selections:\n",
       "    trans_num:                   r1.trans_num\n",
       "    trans_date_trans_time:       r1.trans_date_trans_time\n",
       "    cc_num_amt_5m:               r1.cc_num_amt_5m\n",
       "    trans_date_trans_time_right: r2.trans_date_trans_time\n",
       "    cc_num_amt_60m:              r2.cc_num_amt_60m\n",
       "\n",
       "Selection[r4]\n",
       "  selections:\n",
       "    trans_num:             r4.trans_num\n",
       "    trans_date_trans_time: r4.trans_date_trans_time\n",
       "    cc_num_amt_5m:         r4.cc_num_amt_5m\n",
       "    cc_num_amt_60m:        r4.cc_num_amt_60m"
      ]
     },
     "execution_count": 17,
     "metadata": {},
     "output_type": "execute_result"
    }
   ],
   "source": [
    "agged"
   ]
  },
  {
   "cell_type": "code",
   "execution_count": 18,
   "metadata": {},
   "outputs": [
    {
     "name": "stdout",
     "output_type": "stream",
     "text": [
      "op = <ibis.expr.operations.relations.DatabaseTable object at 0x7fc9f7a01300>, table_str = transaction t3\n",
      "op = <ibis.expr.operations.relations.DatabaseTable object at 0x7fc9f7a01d20>, table_str = transaction t3\n",
      "op = <ibis.expr.operations.relations.Selection object at 0x7fc9f79d67a0>, table_str = t0\n"
     ]
    },
    {
     "ename": "ValueError",
     "evalue": "not enough values to unpack (expected 2, got 1)",
     "output_type": "error",
     "traceback": [
      "\u001b[0;31m---------------------------------------------------------------------------\u001b[0m",
      "\u001b[0;31mValueError\u001b[0m                                Traceback (most recent call last)",
      "Cell \u001b[0;32mIn[18], line 2\u001b[0m\n\u001b[1;32m      1\u001b[0m \u001b[39m# 5. emit query result to sink table\u001b[39;00m\n\u001b[0;32m----> 2\u001b[0m connection\u001b[39m.\u001b[39;49minsert(\u001b[39m\"\u001b[39;49m\u001b[39mfraud_features_table\u001b[39;49m\u001b[39m\"\u001b[39;49m, agged)\n",
      "File \u001b[0;32m~/.python/current/lib/python3.10/site-packages/ibis/backends/flink/__init__.py:708\u001b[0m, in \u001b[0;36mBackend.insert\u001b[0;34m(self, table_name, obj, schema, database, catalog, overwrite)\u001b[0m\n\u001b[1;32m    700\u001b[0m     select \u001b[39m=\u001b[39m ast\u001b[39m.\u001b[39mqueries[\u001b[39m0\u001b[39m]\n\u001b[1;32m    701\u001b[0m     statement \u001b[39m=\u001b[39m InsertSelect(\n\u001b[1;32m    702\u001b[0m         table_name,\n\u001b[1;32m    703\u001b[0m         select,\n\u001b[0;32m   (...)\u001b[0m\n\u001b[1;32m    706\u001b[0m         overwrite\u001b[39m=\u001b[39moverwrite,\n\u001b[1;32m    707\u001b[0m     )\n\u001b[0;32m--> 708\u001b[0m     \u001b[39mreturn\u001b[39;00m \u001b[39mself\u001b[39m\u001b[39m.\u001b[39m_exec_sql(statement\u001b[39m.\u001b[39;49mcompile())\n\u001b[1;32m    710\u001b[0m \u001b[39mif\u001b[39;00m \u001b[39misinstance\u001b[39m(obj, pa\u001b[39m.\u001b[39mTable):\n\u001b[1;32m    711\u001b[0m     obj \u001b[39m=\u001b[39m obj\u001b[39m.\u001b[39mto_pandas()\n",
      "File \u001b[0;32m~/.python/current/lib/python3.10/site-packages/ibis/backends/flink/ddl.py:367\u001b[0m, in \u001b[0;36mInsertSelect.compile\u001b[0;34m(self)\u001b[0m\n\u001b[1;32m    364\u001b[0m \u001b[39melse\u001b[39;00m:\n\u001b[1;32m    365\u001b[0m     partition \u001b[39m=\u001b[39m \u001b[39m\"\u001b[39m\u001b[39m\"\u001b[39m\n\u001b[0;32m--> 367\u001b[0m select_query \u001b[39m=\u001b[39m \u001b[39mself\u001b[39;49m\u001b[39m.\u001b[39;49mselect\u001b[39m.\u001b[39;49mcompile()\n\u001b[1;32m    368\u001b[0m scoped_name \u001b[39m=\u001b[39m \u001b[39mself\u001b[39m\u001b[39m.\u001b[39m_get_scoped_name(\n\u001b[1;32m    369\u001b[0m     \u001b[39mself\u001b[39m\u001b[39m.\u001b[39mtable_name, \u001b[39mself\u001b[39m\u001b[39m.\u001b[39mdatabase, \u001b[39mself\u001b[39m\u001b[39m.\u001b[39mcatalog\n\u001b[1;32m    370\u001b[0m )\n\u001b[1;32m    371\u001b[0m \u001b[39mreturn\u001b[39;00m \u001b[39mf\u001b[39m\u001b[39m\"\u001b[39m\u001b[39m{\u001b[39;00mcmd\u001b[39m}\u001b[39;00m\u001b[39m \u001b[39m\u001b[39m{\u001b[39;00mscoped_name\u001b[39m}\u001b[39;00m\u001b[39m{\u001b[39;00mpartition\u001b[39m}\u001b[39;00m\u001b[39m\\n\u001b[39;00m\u001b[39m{\u001b[39;00mselect_query\u001b[39m}\u001b[39;00m\u001b[39m\"\u001b[39m\n",
      "File \u001b[0;32m~/.python/current/lib/python3.10/site-packages/ibis/backends/base/sql/compiler/query_builder.py:282\u001b[0m, in \u001b[0;36mSelect.compile\u001b[0;34m(self)\u001b[0m\n\u001b[1;32m    279\u001b[0m select_frag \u001b[39m=\u001b[39m \u001b[39mself\u001b[39m\u001b[39m.\u001b[39mformat_select_set()\n\u001b[1;32m    281\u001b[0m \u001b[39m# FROM, JOIN, UNION\u001b[39;00m\n\u001b[0;32m--> 282\u001b[0m from_frag \u001b[39m=\u001b[39m \u001b[39mself\u001b[39;49m\u001b[39m.\u001b[39;49mformat_table_set()\n\u001b[1;32m    284\u001b[0m \u001b[39m# WHERE\u001b[39;00m\n\u001b[1;32m    285\u001b[0m where_frag \u001b[39m=\u001b[39m \u001b[39mself\u001b[39m\u001b[39m.\u001b[39mformat_where()\n",
      "File \u001b[0;32m~/.python/current/lib/python3.10/site-packages/ibis/backends/base/sql/compiler/query_builder.py:387\u001b[0m, in \u001b[0;36mSelect.format_table_set\u001b[0;34m(self)\u001b[0m\n\u001b[1;32m    384\u001b[0m fragment \u001b[39m=\u001b[39m \u001b[39m\"\u001b[39m\u001b[39mFROM \u001b[39m\u001b[39m\"\u001b[39m\n\u001b[1;32m    386\u001b[0m helper \u001b[39m=\u001b[39m \u001b[39mself\u001b[39m\u001b[39m.\u001b[39mtable_set_formatter_class(\u001b[39mself\u001b[39m, \u001b[39mself\u001b[39m\u001b[39m.\u001b[39mtable_set)\n\u001b[0;32m--> 387\u001b[0m fragment \u001b[39m+\u001b[39m\u001b[39m=\u001b[39m helper\u001b[39m.\u001b[39;49mget_result()\n\u001b[1;32m    389\u001b[0m \u001b[39mreturn\u001b[39;00m fragment\n",
      "File \u001b[0;32m~/.python/current/lib/python3.10/site-packages/ibis/backends/flink/compiler/core.py:81\u001b[0m, in \u001b[0;36mFlinkTableSetFormatter.get_result\u001b[0;34m(self)\u001b[0m\n\u001b[1;32m     77\u001b[0m     \u001b[39mself\u001b[39m\u001b[39m.\u001b[39m_walk_join_tree(op)\n\u001b[1;32m     78\u001b[0m \u001b[39melse\u001b[39;00m:\n\u001b[1;32m     79\u001b[0m     \u001b[39m# TODO (mehmet): What does this do exactly?\u001b[39;00m\n\u001b[1;32m     80\u001b[0m     \u001b[39m# Could not get it exercised with the unit tests.\u001b[39;00m\n\u001b[0;32m---> 81\u001b[0m     \u001b[39mself\u001b[39;49m\u001b[39m.\u001b[39;49mrecord_join_tables(op)\n\u001b[1;32m     83\u001b[0m \u001b[39m# TODO: Now actually format the things\u001b[39;00m\n\u001b[1;32m     84\u001b[0m buf \u001b[39m=\u001b[39m StringIO()\n",
      "File \u001b[0;32m~/.python/current/lib/python3.10/site-packages/ibis/backends/base/sql/compiler/query_builder.py:52\u001b[0m, in \u001b[0;36mTableSetFormatter.record_join_tables\u001b[0;34m(self, op)\u001b[0m\n\u001b[1;32m     51\u001b[0m \u001b[39mdef\u001b[39;00m \u001b[39mrecord_join_tables\u001b[39m(\u001b[39mself\u001b[39m, op: ops\u001b[39m.\u001b[39mRelation):\n\u001b[0;32m---> 52\u001b[0m     table_str \u001b[39m=\u001b[39m \u001b[39mself\u001b[39;49m\u001b[39m.\u001b[39;49m_format_table(op\u001b[39m=\u001b[39;49mop)\n\u001b[1;32m     53\u001b[0m     \u001b[39mprint\u001b[39m(\u001b[39mf\u001b[39m\u001b[39m\"\u001b[39m\u001b[39mop = \u001b[39m\u001b[39m{\u001b[39;00mop\u001b[39m}\u001b[39;00m\u001b[39m, table_str = \u001b[39m\u001b[39m{\u001b[39;00mtable_str\u001b[39m}\u001b[39;00m\u001b[39m\"\u001b[39m)\n\u001b[1;32m     54\u001b[0m     [table_name, alias] \u001b[39m=\u001b[39m table_str\u001b[39m.\u001b[39msplit()\n",
      "File \u001b[0;32m~/.python/current/lib/python3.10/site-packages/ibis/backends/flink/compiler/core.py:58\u001b[0m, in \u001b[0;36mFlinkTableSetFormatter._format_table\u001b[0;34m(self, op, include_alias)\u001b[0m\n\u001b[1;32m     56\u001b[0m     \u001b[39mreturn\u001b[39;00m \u001b[39mf\u001b[39m\u001b[39m\"\u001b[39m\u001b[39m{\u001b[39;00mformatted_table\u001b[39m}\u001b[39;00m\u001b[39m \u001b[39m\u001b[39m{\u001b[39;00mctx\u001b[39m.\u001b[39mget_ref(op)\u001b[39m}\u001b[39;00m\u001b[39m\"\u001b[39m\n\u001b[1;32m     57\u001b[0m \u001b[39melse\u001b[39;00m:\n\u001b[0;32m---> 58\u001b[0m     result \u001b[39m=\u001b[39m \u001b[39msuper\u001b[39;49m()\u001b[39m.\u001b[39;49m_format_table(op\u001b[39m=\u001b[39;49mop, include_alias\u001b[39m=\u001b[39;49minclude_alias)\n\u001b[1;32m     60\u001b[0m ref_op \u001b[39m=\u001b[39m op\n\u001b[1;32m     61\u001b[0m \u001b[39mif\u001b[39;00m \u001b[39misinstance\u001b[39m(op, ops\u001b[39m.\u001b[39mSelfReference):\n",
      "File \u001b[0;32m~/.python/current/lib/python3.10/site-packages/ibis/backends/base/sql/compiler/query_builder.py:145\u001b[0m, in \u001b[0;36mTableSetFormatter._format_table\u001b[0;34m(self, op, include_alias)\u001b[0m\n\u001b[1;32m    143\u001b[0m         result \u001b[39m=\u001b[39m alias\n\u001b[1;32m    144\u001b[0m \u001b[39melse\u001b[39;00m:\n\u001b[0;32m--> 145\u001b[0m     subquery \u001b[39m=\u001b[39m ctx\u001b[39m.\u001b[39;49mget_compiled_expr(op)\n\u001b[1;32m    146\u001b[0m     result \u001b[39m=\u001b[39m \u001b[39mf\u001b[39m\u001b[39m\"\u001b[39m\u001b[39m(\u001b[39m\u001b[39m\\n\u001b[39;00m\u001b[39m{\u001b[39;00mutil\u001b[39m.\u001b[39mindent(subquery,\u001b[39m \u001b[39m\u001b[39mself\u001b[39m\u001b[39m.\u001b[39mindent)\u001b[39m}\u001b[39;00m\u001b[39m\\n\u001b[39;00m\u001b[39m)\u001b[39m\u001b[39m\"\u001b[39m\n\u001b[1;32m    148\u001b[0m \u001b[39mif\u001b[39;00m result \u001b[39m!=\u001b[39m alias:\n",
      "File \u001b[0;32m~/.python/current/lib/python3.10/site-packages/ibis/backends/base/sql/compiler/translator.py:74\u001b[0m, in \u001b[0;36mQueryContext.get_compiled_expr\u001b[0;34m(self, node)\u001b[0m\n\u001b[1;32m     72\u001b[0m     result \u001b[39m=\u001b[39m node\u001b[39m.\u001b[39mquery\n\u001b[1;32m     73\u001b[0m \u001b[39melse\u001b[39;00m:\n\u001b[0;32m---> 74\u001b[0m     result \u001b[39m=\u001b[39m \u001b[39mself\u001b[39;49m\u001b[39m.\u001b[39;49m_compile_subquery(node)\n\u001b[1;32m     76\u001b[0m \u001b[39mself\u001b[39m\u001b[39m.\u001b[39mtop_context\u001b[39m.\u001b[39msubquery_memo[node] \u001b[39m=\u001b[39m result\n\u001b[1;32m     77\u001b[0m \u001b[39mreturn\u001b[39;00m result\n",
      "File \u001b[0;32m~/.python/current/lib/python3.10/site-packages/ibis/backends/base/sql/compiler/translator.py:37\u001b[0m, in \u001b[0;36mQueryContext._compile_subquery\u001b[0;34m(self, op)\u001b[0m\n\u001b[1;32m     35\u001b[0m \u001b[39mdef\u001b[39;00m \u001b[39m_compile_subquery\u001b[39m(\u001b[39mself\u001b[39m, op):\n\u001b[1;32m     36\u001b[0m     sub_ctx \u001b[39m=\u001b[39m \u001b[39mself\u001b[39m\u001b[39m.\u001b[39msubcontext()\n\u001b[0;32m---> 37\u001b[0m     \u001b[39mreturn\u001b[39;00m \u001b[39mself\u001b[39;49m\u001b[39m.\u001b[39;49m_to_sql(op, sub_ctx)\n",
      "File \u001b[0;32m~/.python/current/lib/python3.10/site-packages/ibis/backends/base/sql/compiler/translator.py:40\u001b[0m, in \u001b[0;36mQueryContext._to_sql\u001b[0;34m(self, expr, ctx)\u001b[0m\n\u001b[1;32m     39\u001b[0m \u001b[39mdef\u001b[39;00m \u001b[39m_to_sql\u001b[39m(\u001b[39mself\u001b[39m, expr, ctx):\n\u001b[0;32m---> 40\u001b[0m     \u001b[39mreturn\u001b[39;00m \u001b[39mself\u001b[39;49m\u001b[39m.\u001b[39;49mcompiler\u001b[39m.\u001b[39;49mto_sql(expr, ctx)\n",
      "File \u001b[0;32m~/.python/current/lib/python3.10/site-packages/ibis/backends/flink/compiler/core.py:211\u001b[0m, in \u001b[0;36mFlinkCompiler.to_sql\u001b[0;34m(cls, node, context, params)\u001b[0m\n\u001b[1;32m    207\u001b[0m     \u001b[39mfrom\u001b[39;00m \u001b[39mibis\u001b[39;00m\u001b[39m.\u001b[39;00m\u001b[39mbackends\u001b[39;00m\u001b[39m.\u001b[39;00m\u001b[39mflink\u001b[39;00m\u001b[39m.\u001b[39;00m\u001b[39mutils\u001b[39;00m \u001b[39mimport\u001b[39;00m translate_literal\n\u001b[1;32m    209\u001b[0m     \u001b[39mreturn\u001b[39;00m translate_literal(node)\n\u001b[0;32m--> 211\u001b[0m \u001b[39mreturn\u001b[39;00m \u001b[39msuper\u001b[39;49m()\u001b[39m.\u001b[39;49mto_sql(node, context, params)\n",
      "File \u001b[0;32m~/.python/current/lib/python3.10/site-packages/ibis/backends/base/sql/compiler/query_builder.py:632\u001b[0m, in \u001b[0;36mCompiler.to_sql\u001b[0;34m(cls, node, context, params)\u001b[0m\n\u001b[1;32m    630\u001b[0m \u001b[39mif\u001b[39;00m context \u001b[39mis\u001b[39;00m \u001b[39mNone\u001b[39;00m:\n\u001b[1;32m    631\u001b[0m     context \u001b[39m=\u001b[39m \u001b[39mcls\u001b[39m\u001b[39m.\u001b[39mmake_context(params\u001b[39m=\u001b[39mparams)\n\u001b[0;32m--> 632\u001b[0m \u001b[39mreturn\u001b[39;00m \u001b[39mcls\u001b[39;49m\u001b[39m.\u001b[39;49mto_ast(node, context)\u001b[39m.\u001b[39;49mqueries[\u001b[39m0\u001b[39;49m]\u001b[39m.\u001b[39;49mcompile()\n",
      "File \u001b[0;32m~/.python/current/lib/python3.10/site-packages/ibis/backends/base/sql/compiler/query_builder.py:282\u001b[0m, in \u001b[0;36mSelect.compile\u001b[0;34m(self)\u001b[0m\n\u001b[1;32m    279\u001b[0m select_frag \u001b[39m=\u001b[39m \u001b[39mself\u001b[39m\u001b[39m.\u001b[39mformat_select_set()\n\u001b[1;32m    281\u001b[0m \u001b[39m# FROM, JOIN, UNION\u001b[39;00m\n\u001b[0;32m--> 282\u001b[0m from_frag \u001b[39m=\u001b[39m \u001b[39mself\u001b[39;49m\u001b[39m.\u001b[39;49mformat_table_set()\n\u001b[1;32m    284\u001b[0m \u001b[39m# WHERE\u001b[39;00m\n\u001b[1;32m    285\u001b[0m where_frag \u001b[39m=\u001b[39m \u001b[39mself\u001b[39m\u001b[39m.\u001b[39mformat_where()\n",
      "File \u001b[0;32m~/.python/current/lib/python3.10/site-packages/ibis/backends/base/sql/compiler/query_builder.py:387\u001b[0m, in \u001b[0;36mSelect.format_table_set\u001b[0;34m(self)\u001b[0m\n\u001b[1;32m    384\u001b[0m fragment \u001b[39m=\u001b[39m \u001b[39m\"\u001b[39m\u001b[39mFROM \u001b[39m\u001b[39m\"\u001b[39m\n\u001b[1;32m    386\u001b[0m helper \u001b[39m=\u001b[39m \u001b[39mself\u001b[39m\u001b[39m.\u001b[39mtable_set_formatter_class(\u001b[39mself\u001b[39m, \u001b[39mself\u001b[39m\u001b[39m.\u001b[39mtable_set)\n\u001b[0;32m--> 387\u001b[0m fragment \u001b[39m+\u001b[39m\u001b[39m=\u001b[39m helper\u001b[39m.\u001b[39;49mget_result()\n\u001b[1;32m    389\u001b[0m \u001b[39mreturn\u001b[39;00m fragment\n",
      "File \u001b[0;32m~/.python/current/lib/python3.10/site-packages/ibis/backends/flink/compiler/core.py:77\u001b[0m, in \u001b[0;36mFlinkTableSetFormatter.get_result\u001b[0;34m(self)\u001b[0m\n\u001b[1;32m     74\u001b[0m op \u001b[39m=\u001b[39m \u001b[39mself\u001b[39m\u001b[39m.\u001b[39mnode\n\u001b[1;32m     76\u001b[0m \u001b[39mif\u001b[39;00m \u001b[39misinstance\u001b[39m(op, ops\u001b[39m.\u001b[39mJoin):\n\u001b[0;32m---> 77\u001b[0m     \u001b[39mself\u001b[39;49m\u001b[39m.\u001b[39;49m_walk_join_tree(op)\n\u001b[1;32m     78\u001b[0m \u001b[39melse\u001b[39;00m:\n\u001b[1;32m     79\u001b[0m     \u001b[39m# TODO (mehmet): What does this do exactly?\u001b[39;00m\n\u001b[1;32m     80\u001b[0m     \u001b[39m# Could not get it exercised with the unit tests.\u001b[39;00m\n\u001b[1;32m     81\u001b[0m     \u001b[39mself\u001b[39m\u001b[39m.\u001b[39mrecord_join_tables(op)\n",
      "File \u001b[0;32m~/.python/current/lib/python3.10/site-packages/ibis/backends/base/sql/compiler/query_builder.py:77\u001b[0m, in \u001b[0;36mTableSetFormatter._walk_join_tree\u001b[0;34m(self, op)\u001b[0m\n\u001b[1;32m     73\u001b[0m     \u001b[39mself\u001b[39m\u001b[39m.\u001b[39m_walk_join_tree(op\u001b[39m.\u001b[39mright)\n\u001b[1;32m     75\u001b[0m \u001b[39melse\u001b[39;00m:\n\u001b[1;32m     76\u001b[0m     \u001b[39m# Both tables\u001b[39;00m\n\u001b[0;32m---> 77\u001b[0m     \u001b[39mself\u001b[39;49m\u001b[39m.\u001b[39;49mrecord_join_tables(op\u001b[39m.\u001b[39;49mleft)\n\u001b[1;32m     78\u001b[0m     \u001b[39mself\u001b[39m\u001b[39m.\u001b[39mrecord_join_tables(op\u001b[39m.\u001b[39mright)\n\u001b[1;32m     80\u001b[0m \u001b[39mself\u001b[39m\u001b[39m.\u001b[39mjoin_types\u001b[39m.\u001b[39mappend(jname)\n",
      "File \u001b[0;32m~/.python/current/lib/python3.10/site-packages/ibis/backends/base/sql/compiler/query_builder.py:54\u001b[0m, in \u001b[0;36mTableSetFormatter.record_join_tables\u001b[0;34m(self, op)\u001b[0m\n\u001b[1;32m     52\u001b[0m table_str \u001b[39m=\u001b[39m \u001b[39mself\u001b[39m\u001b[39m.\u001b[39m_format_table(op\u001b[39m=\u001b[39mop)\n\u001b[1;32m     53\u001b[0m \u001b[39mprint\u001b[39m(\u001b[39mf\u001b[39m\u001b[39m\"\u001b[39m\u001b[39mop = \u001b[39m\u001b[39m{\u001b[39;00mop\u001b[39m}\u001b[39;00m\u001b[39m, table_str = \u001b[39m\u001b[39m{\u001b[39;00mtable_str\u001b[39m}\u001b[39;00m\u001b[39m\"\u001b[39m)\n\u001b[0;32m---> 54\u001b[0m [table_name, alias] \u001b[39m=\u001b[39m table_str\u001b[39m.\u001b[39msplit()\n\u001b[1;32m     55\u001b[0m \u001b[39mself\u001b[39m\u001b[39m.\u001b[39mjoin_tables\u001b[39m.\u001b[39mappend(table_name)\n\u001b[1;32m     56\u001b[0m \u001b[39mself\u001b[39m\u001b[39m.\u001b[39mjoin_table_aliases\u001b[39m.\u001b[39mappend(alias)\n",
      "\u001b[0;31mValueError\u001b[0m: not enough values to unpack (expected 2, got 1)"
     ]
    }
   ],
   "source": [
    "# 5. emit query result to sink table\n",
    "connection.insert(\"fraud_features_table\", agged)"
   ]
  },
  {
   "cell_type": "code",
   "execution_count": 15,
   "metadata": {},
   "outputs": [
    {
     "name": "stdout",
     "output_type": "stream",
     "text": [
      "ConsumerRecord(topic='fraud_features_topic', partition=0, offset=9686, timestamp=1704326690514, timestamp_type=0, key=None, value=b'{\"trans_num\":\"f3870d607e888d38a79ef952b28e676b\",\"merchant\":\"fraud_Lubowitz-Walter\",\"category\":\"kids_pets\",\"cc_num\":4900630000000,\"amt\":39.64,\"cc_num_amt_5m\":39.64}', headers=[], checksum=None, serialized_key_size=-1, serialized_value_size=163, serialized_header_size=-1)\n",
      "ConsumerRecord(topic='fraud_features_topic', partition=0, offset=9687, timestamp=1704326690514, timestamp_type=0, key=None, value=b'{\"trans_num\":\"1887c447c6d598e2559e1b1f3f35d5f4\",\"merchant\":\"fraud_Bednar PLC\",\"category\":\"kids_pets\",\"cc_num\":2383460000000000,\"amt\":89.61,\"cc_num_amt_5m\":89.61}', headers=[], checksum=None, serialized_key_size=-1, serialized_value_size=161, serialized_header_size=-1)\n",
      "ConsumerRecord(topic='fraud_features_topic', partition=0, offset=9688, timestamp=1704326690514, timestamp_type=0, key=None, value=b'{\"trans_num\":\"415e39baad9608d29025e28ed99dda98\",\"merchant\":\"fraud_Gottlieb Group\",\"category\":\"kids_pets\",\"cc_num\":4116550000000000,\"amt\":166.8,\"cc_num_amt_5m\":166.8}', headers=[], checksum=None, serialized_key_size=-1, serialized_value_size=165, serialized_header_size=-1)\n",
      "ConsumerRecord(topic='fraud_features_topic', partition=0, offset=9689, timestamp=1704326690514, timestamp_type=0, key=None, value=b'{\"trans_num\":\"6347bb40335685c0ad5c50a910eb5f67\",\"merchant\":\"fraud_Okuneva, Schneider and Rau\",\"category\":\"shopping_pos\",\"cc_num\":180018000000000,\"amt\":2.09,\"cc_num_amt_5m\":2.09}', headers=[], checksum=None, serialized_key_size=-1, serialized_value_size=177, serialized_header_size=-1)\n",
      "ConsumerRecord(topic='fraud_features_topic', partition=0, offset=9690, timestamp=1704326690514, timestamp_type=0, key=None, value=b'{\"trans_num\":\"ca616866327d023cde41946234d1c846\",\"merchant\":\"fraud_Mayert Group\",\"category\":\"shopping_pos\",\"cc_num\":4378990000000000,\"amt\":1.6,\"cc_num_amt_5m\":3.569999999999999}', headers=[], checksum=None, serialized_key_size=-1, serialized_value_size=176, serialized_header_size=-1)\n",
      "ConsumerRecord(topic='fraud_features_topic', partition=0, offset=9691, timestamp=1704326690514, timestamp_type=0, key=None, value=b'{\"trans_num\":\"d3a909b40d256a432399d782c43f82e4\",\"merchant\":\"fraud_Cartwright PLC\",\"category\":\"kids_pets\",\"cc_num\":3589260000000000,\"amt\":38.77,\"cc_num_amt_5m\":252.94000000000003}', headers=[], checksum=None, serialized_key_size=-1, serialized_value_size=178, serialized_header_size=-1)\n",
      "ConsumerRecord(topic='fraud_features_topic', partition=0, offset=9692, timestamp=1704326690514, timestamp_type=0, key=None, value=b'{\"trans_num\":\"78bda8e1a6fd1a1f7ff94cd17eceb6dd\",\"merchant\":\"fraud_Schroeder, Wolff and Hermiston\",\"category\":\"travel\",\"cc_num\":676369000000,\"amt\":1.23,\"cc_num_amt_5m\":78.73000000000002}', headers=[], checksum=None, serialized_key_size=-1, serialized_value_size=185, serialized_header_size=-1)\n",
      "ConsumerRecord(topic='fraud_features_topic', partition=0, offset=9693, timestamp=1704326690514, timestamp_type=0, key=None, value=b'{\"trans_num\":\"8470906ba0dc4e9db9724f55e1e006e4\",\"merchant\":\"fraud_Koss, Hansen and Lueilwitz\",\"category\":\"home\",\"cc_num\":30044300000000,\"amt\":33.14,\"cc_num_amt_5m\":210.25}', headers=[], checksum=None, serialized_key_size=-1, serialized_value_size=171, serialized_header_size=-1)\n",
      "ConsumerRecord(topic='fraud_features_topic', partition=0, offset=9694, timestamp=1704326690515, timestamp_type=0, key=None, value=b'{\"trans_num\":\"ca58398faecfcf87de32eebc83ab4fd3\",\"merchant\":\"fraud_Harris Group\",\"category\":\"food_dining\",\"cc_num\":2706980000000000,\"amt\":62.19,\"cc_num_amt_5m\":62.190000000000026}', headers=[], checksum=None, serialized_key_size=-1, serialized_value_size=178, serialized_header_size=-1)\n",
      "ConsumerRecord(topic='fraud_features_topic', partition=0, offset=9695, timestamp=1704326690515, timestamp_type=0, key=None, value=b'{\"trans_num\":\"9c8108f1b4bbb5cdb365eb61986d33be\",\"merchant\":\"fraud_Fritsch LLC\",\"category\":\"travel\",\"cc_num\":213114000000000,\"amt\":8.06,\"cc_num_amt_5m\":8.06}', headers=[], checksum=None, serialized_key_size=-1, serialized_value_size=156, serialized_header_size=-1)\n"
     ]
    }
   ],
   "source": [
    "if local:\n",
    "    # Use the Kafka Python client to stream records from the sink topic.\n",
    "    # Otherwise, the mini cluster will shut down upon script completion.\n",
    "    consumer = KafkaConsumer(\"fraud_features_topic\")\n",
    "    for _, msg in zip(range(10), consumer):\n",
    "        print(msg)\n"
   ]
  },
  {
   "cell_type": "code",
   "execution_count": null,
   "metadata": {},
   "outputs": [],
   "source": []
  }
 ],
 "metadata": {
  "kernelspec": {
   "display_name": "Python 3 (ipykernel)",
   "language": "python",
   "name": "python3"
  },
  "language_info": {
   "codemirror_mode": {
    "name": "ipython",
    "version": 3
   },
   "file_extension": ".py",
   "mimetype": "text/x-python",
   "name": "python",
   "nbconvert_exporter": "python",
   "pygments_lexer": "ipython3",
   "version": "3.10.13"
  },
  "orig_nbformat": 4
 },
 "nbformat": 4,
 "nbformat_minor": 2
}
